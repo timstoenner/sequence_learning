{
  "nbformat": 4,
  "nbformat_minor": 0,
  "metadata": {
    "kernelspec": {
      "display_name": "Python 3",
      "language": "python",
      "name": "python3"
    },
    "language_info": {
      "codemirror_mode": {
        "name": "ipython",
        "version": 3
      },
      "file_extension": ".py",
      "mimetype": "text/x-python",
      "name": "python",
      "nbconvert_exporter": "python",
      "pygments_lexer": "ipython3",
      "version": "3.7.7"
    },
    "colab": {
      "name": "Sequence_Learning_on_Cosmetics_Data_4B_v1.ipynb",
      "provenance": [],
      "collapsed_sections": [],
      "machine_shape": "hm",
      "include_colab_link": true
    },
    "accelerator": "GPU"
  },
  "cells": [
    {
      "cell_type": "markdown",
      "metadata": {
        "id": "view-in-github",
        "colab_type": "text"
      },
      "source": [
        "<a href=\"https://colab.research.google.com/github/timstoenner/sequence_learning/blob/main/Sequence_Learning_on_Cosmetics_Data_4B_Stoenner.ipynb\" target=\"_parent\"><img src=\"https://colab.research.google.com/assets/colab-badge.svg\" alt=\"Open In Colab\"/></a>"
      ]
    },
    {
      "cell_type": "markdown",
      "metadata": {
        "id": "tyN5gj274OgN"
      },
      "source": [
        "# Today you are MLE at the Personalization Department in Macy's cosmetics!\r\n",
        "Your goal is to predict outcomes of online browsing sessions through session-level-features or sequence of page visits to predict if teh next sequence of events/session outcome will be a purchase or not. Working off session level data is definitely more erroneous than on a journey level, but it provides the opportunity to initiate nudge models/coupons to help personalize at each session level.\r\n",
        "\r\n",
        "Models used in this assignment are similar to https://github.com/guillaume-chevalier/seq2seq-signal-prediction/blob/master/seq2seq.ipynb\r\n",
        "\r\n",
        "## You have two major tasks today:\r\n",
        "\r\n",
        "\r\n",
        "1.   To process raw session level data to generate sequence data/sequence models.\r\n",
        "2.   Compare performance of sequence models with session-feature level models.\r\n",
        "\r\n",
        "## Your manager needs your help to answer the following question: \r\n",
        "Which is the better strategy for session level predictions that lead to presonalization: page visit sequences (less complexity for data pre-process) or session-level features (more data heavy process)?\r\n",
        "\r\n"
      ]
    },
    {
      "cell_type": "markdown",
      "metadata": {
        "id": "G72VpQoe9qyi"
      },
      "source": [
        "# Task 0: Getting familiar with the Data!"
      ]
    },
    {
      "cell_type": "code",
      "metadata": {
        "colab": {
          "base_uri": "https://localhost:8080/"
        },
        "id": "qLLIlcrdvmw1",
        "outputId": "a8c09cfc-2442-4cfd-a1e7-667cfb16fe6d"
      },
      "source": [
        "#Mount the RAW session level data: shopping.pkl\r\n",
        "from google.colab import drive\r\n",
        "drive.mount('/content/drive')"
      ],
      "execution_count": 1,
      "outputs": [
        {
          "output_type": "stream",
          "text": [
            "Drive already mounted at /content/drive; to attempt to forcibly remount, call drive.mount(\"/content/drive\", force_remount=True).\n"
          ],
          "name": "stdout"
        }
      ]
    },
    {
      "cell_type": "code",
      "metadata": {
        "colab": {
          "base_uri": "https://localhost:8080/"
        },
        "id": "suaLXdkkwBzy",
        "outputId": "8e80550b-b90a-401e-f95b-ccc9aeb393f7"
      },
      "source": [
        "import os\r\n",
        "# The path below should point to the directory containing this notebook and the associated utility files\r\n",
        "# Change it if necessary\r\n",
        "os.chdir('/content/drive/MyDrive/FourthBrain/FourthBrain/Week_10/Sequence_Models')\r\n",
        "!ls"
      ],
      "execution_count": 2,
      "outputs": [
        {
          "output_type": "stream",
          "text": [
            "Session_features.pkl  shopping.pkl\n"
          ],
          "name": "stdout"
        }
      ]
    },
    {
      "cell_type": "code",
      "metadata": {
        "id": "Qbh2P_qs9i1_"
      },
      "source": [
        "# Import all libraries\r\n",
        "import numpy as np\r\n",
        "import pandas as pd\r\n",
        "from sklearn.preprocessing import OneHotEncoder\r\n",
        "from keras.models import Sequential\r\n",
        "from keras.layers import Dense\r\n",
        "from keras.layers import LSTM\r\n",
        "from keras.layers import Flatten\r\n",
        "from sklearn.preprocessing import MinMaxScaler\r\n",
        "from sklearn.metrics import mean_squared_error\r\n",
        "from matplotlib import pyplot\r\n",
        "from keras.layers import Bidirectional\r\n",
        "from keras.layers import TimeDistributed"
      ],
      "execution_count": 3,
      "outputs": []
    },
    {
      "cell_type": "code",
      "metadata": {
        "id": "S5UdJL8sP6fz",
        "colab": {
          "base_uri": "https://localhost:8080/",
          "height": 221
        },
        "outputId": "4b227a0e-ea93-49fa-e8e6-5423e9bf1a2c"
      },
      "source": [
        "#Read and look at the RAW data\r\n",
        "data = pd.read_pickle('shopping.pkl')\r\n",
        "print('Shape of data=', data.shape)\r\n",
        "data.head()"
      ],
      "execution_count": 4,
      "outputs": [
        {
          "output_type": "stream",
          "text": [
            "Shape of data= (1500000, 12)\n"
          ],
          "name": "stdout"
        },
        {
          "output_type": "execute_result",
          "data": {
            "text/html": [
              "<div>\n",
              "<style scoped>\n",
              "    .dataframe tbody tr th:only-of-type {\n",
              "        vertical-align: middle;\n",
              "    }\n",
              "\n",
              "    .dataframe tbody tr th {\n",
              "        vertical-align: top;\n",
              "    }\n",
              "\n",
              "    .dataframe thead th {\n",
              "        text-align: right;\n",
              "    }\n",
              "</style>\n",
              "<table border=\"1\" class=\"dataframe\">\n",
              "  <thead>\n",
              "    <tr style=\"text-align: right;\">\n",
              "      <th></th>\n",
              "      <th>event_time</th>\n",
              "      <th>event_type</th>\n",
              "      <th>product_id</th>\n",
              "      <th>category_id</th>\n",
              "      <th>brand</th>\n",
              "      <th>price</th>\n",
              "      <th>user_id</th>\n",
              "      <th>user_session</th>\n",
              "      <th>year</th>\n",
              "      <th>month</th>\n",
              "      <th>weekday</th>\n",
              "      <th>hour</th>\n",
              "    </tr>\n",
              "  </thead>\n",
              "  <tbody>\n",
              "    <tr>\n",
              "      <th>0</th>\n",
              "      <td>2019-12-01 00:00:00</td>\n",
              "      <td>remove_from_cart</td>\n",
              "      <td>5712790</td>\n",
              "      <td>1487580005268456287</td>\n",
              "      <td>f.o.x</td>\n",
              "      <td>6.27</td>\n",
              "      <td>576802932</td>\n",
              "      <td>51d85cb0-897f-48d2-918b-ad63965c12dc</td>\n",
              "      <td>2019</td>\n",
              "      <td>12</td>\n",
              "      <td>Sunday</td>\n",
              "      <td>0</td>\n",
              "    </tr>\n",
              "    <tr>\n",
              "      <th>1</th>\n",
              "      <td>2019-12-01 00:00:00</td>\n",
              "      <td>view</td>\n",
              "      <td>5764655</td>\n",
              "      <td>1487580005411062629</td>\n",
              "      <td>cnd</td>\n",
              "      <td>29.05</td>\n",
              "      <td>412120092</td>\n",
              "      <td>8adff31e-2051-4894-9758-224bfa8aec18</td>\n",
              "      <td>2019</td>\n",
              "      <td>12</td>\n",
              "      <td>Sunday</td>\n",
              "      <td>0</td>\n",
              "    </tr>\n",
              "    <tr>\n",
              "      <th>2</th>\n",
              "      <td>2019-12-01 00:00:02</td>\n",
              "      <td>cart</td>\n",
              "      <td>4958</td>\n",
              "      <td>1487580009471148064</td>\n",
              "      <td>runail</td>\n",
              "      <td>1.19</td>\n",
              "      <td>494077766</td>\n",
              "      <td>c99a50e8-2fac-4c4d-89ec-41c05f114554</td>\n",
              "      <td>2019</td>\n",
              "      <td>12</td>\n",
              "      <td>Sunday</td>\n",
              "      <td>0</td>\n",
              "    </tr>\n",
              "    <tr>\n",
              "      <th>3</th>\n",
              "      <td>2019-12-01 00:00:05</td>\n",
              "      <td>view</td>\n",
              "      <td>5848413</td>\n",
              "      <td>1487580007675986893</td>\n",
              "      <td>freedecor</td>\n",
              "      <td>0.79</td>\n",
              "      <td>348405118</td>\n",
              "      <td>722ffea5-73c0-4924-8e8f-371ff8031af4</td>\n",
              "      <td>2019</td>\n",
              "      <td>12</td>\n",
              "      <td>Sunday</td>\n",
              "      <td>0</td>\n",
              "    </tr>\n",
              "    <tr>\n",
              "      <th>4</th>\n",
              "      <td>2019-12-01 00:00:07</td>\n",
              "      <td>view</td>\n",
              "      <td>5824148</td>\n",
              "      <td>1487580005511725929</td>\n",
              "      <td>nan</td>\n",
              "      <td>5.56</td>\n",
              "      <td>576005683</td>\n",
              "      <td>28172809-7e4a-45ce-bab0-5efa90117cd5</td>\n",
              "      <td>2019</td>\n",
              "      <td>12</td>\n",
              "      <td>Sunday</td>\n",
              "      <td>0</td>\n",
              "    </tr>\n",
              "  </tbody>\n",
              "</table>\n",
              "</div>"
            ],
            "text/plain": [
              "           event_time        event_type  product_id  ...  month weekday  hour\n",
              "0 2019-12-01 00:00:00  remove_from_cart     5712790  ...     12  Sunday     0\n",
              "1 2019-12-01 00:00:00              view     5764655  ...     12  Sunday     0\n",
              "2 2019-12-01 00:00:02              cart        4958  ...     12  Sunday     0\n",
              "3 2019-12-01 00:00:05              view     5848413  ...     12  Sunday     0\n",
              "4 2019-12-01 00:00:07              view     5824148  ...     12  Sunday     0\n",
              "\n",
              "[5 rows x 12 columns]"
            ]
          },
          "metadata": {
            "tags": []
          },
          "execution_count": 4
        }
      ]
    },
    {
      "cell_type": "markdown",
      "metadata": {
        "id": "xGvjhdUnu2SB"
      },
      "source": [
        "So for each unique user_session ID, the data fields that are collected are (product ID, category ID, brand, price, user ID, year, month, weekday, hour and the event (view, cart, remove, purchase). Each event is time tagged!"
      ]
    },
    {
      "cell_type": "code",
      "metadata": {
        "colab": {
          "base_uri": "https://localhost:8080/",
          "height": 241
        },
        "id": "Ku0_TrjDuDhu",
        "outputId": "14d2258a-80fa-4867-cce5-7d2f75a6925d"
      },
      "source": [
        "#Next lets look at the feature-level session data\r\n",
        "feat = pd.read_pickle('Session_features.pkl')\r\n",
        "print('Shape of data=', feat.shape)\r\n",
        "feat.head()"
      ],
      "execution_count": 5,
      "outputs": [
        {
          "output_type": "stream",
          "text": [
            "Shape of data= (1500000, 36)\n"
          ],
          "name": "stdout"
        },
        {
          "output_type": "execute_result",
          "data": {
            "text/html": [
              "<div>\n",
              "<style scoped>\n",
              "    .dataframe tbody tr th:only-of-type {\n",
              "        vertical-align: middle;\n",
              "    }\n",
              "\n",
              "    .dataframe tbody tr th {\n",
              "        vertical-align: top;\n",
              "    }\n",
              "\n",
              "    .dataframe thead th {\n",
              "        text-align: right;\n",
              "    }\n",
              "</style>\n",
              "<table border=\"1\" class=\"dataframe\">\n",
              "  <thead>\n",
              "    <tr style=\"text-align: right;\">\n",
              "      <th></th>\n",
              "      <th>TotalEventsInSession</th>\n",
              "      <th>interactionTime</th>\n",
              "      <th>#TimesCartedinSession</th>\n",
              "      <th>#TimesViewedinSession</th>\n",
              "      <th>maxPrice</th>\n",
              "      <th>minPrice</th>\n",
              "      <th>AvgAmtCartedInSession</th>\n",
              "      <th>AvgAmtViewedInSession</th>\n",
              "      <th>#BrandsCartedInSession</th>\n",
              "      <th>#BrandsViewedInSession</th>\n",
              "      <th>#CategoriesCartedInSession</th>\n",
              "      <th>#CategoriesViewedInSession</th>\n",
              "      <th>OverallAmtUserCarted</th>\n",
              "      <th>OverallAmtUserViewed</th>\n",
              "      <th>#ProdsCartedInSession</th>\n",
              "      <th>#ProdsViewedInSession</th>\n",
              "      <th>Fr</th>\n",
              "      <th>Mon</th>\n",
              "      <th>Sat</th>\n",
              "      <th>Sun</th>\n",
              "      <th>Thu</th>\n",
              "      <th>Tue</th>\n",
              "      <th>Wed</th>\n",
              "      <th>2019</th>\n",
              "      <th>Nov</th>\n",
              "      <th>Oct</th>\n",
              "      <th>Sep</th>\n",
              "      <th>Afternoon</th>\n",
              "      <th>Dawn</th>\n",
              "      <th>EarlyMorning</th>\n",
              "      <th>Evening</th>\n",
              "      <th>Morning</th>\n",
              "      <th>Night</th>\n",
              "      <th>Noon</th>\n",
              "      <th>Weekend</th>\n",
              "      <th>Purchase</th>\n",
              "    </tr>\n",
              "  </thead>\n",
              "  <tbody>\n",
              "    <tr>\n",
              "      <th>0</th>\n",
              "      <td>7</td>\n",
              "      <td>493.0</td>\n",
              "      <td>0</td>\n",
              "      <td>7</td>\n",
              "      <td>1349.46</td>\n",
              "      <td>131.53</td>\n",
              "      <td>0.00</td>\n",
              "      <td>812.941429</td>\n",
              "      <td>0</td>\n",
              "      <td>7</td>\n",
              "      <td>0</td>\n",
              "      <td>7</td>\n",
              "      <td>145.095000</td>\n",
              "      <td>187.166429</td>\n",
              "      <td>0</td>\n",
              "      <td>7</td>\n",
              "      <td>0</td>\n",
              "      <td>0</td>\n",
              "      <td>0</td>\n",
              "      <td>0</td>\n",
              "      <td>1</td>\n",
              "      <td>0</td>\n",
              "      <td>0</td>\n",
              "      <td>1</td>\n",
              "      <td>0</td>\n",
              "      <td>1</td>\n",
              "      <td>0</td>\n",
              "      <td>0</td>\n",
              "      <td>1</td>\n",
              "      <td>0</td>\n",
              "      <td>0</td>\n",
              "      <td>0</td>\n",
              "      <td>0</td>\n",
              "      <td>0</td>\n",
              "      <td>0</td>\n",
              "      <td>0</td>\n",
              "    </tr>\n",
              "    <tr>\n",
              "      <th>1</th>\n",
              "      <td>18</td>\n",
              "      <td>585.0</td>\n",
              "      <td>1</td>\n",
              "      <td>16</td>\n",
              "      <td>1747.79</td>\n",
              "      <td>152.58</td>\n",
              "      <td>289.52</td>\n",
              "      <td>621.671250</td>\n",
              "      <td>1</td>\n",
              "      <td>16</td>\n",
              "      <td>1</td>\n",
              "      <td>16</td>\n",
              "      <td>461.202273</td>\n",
              "      <td>653.235432</td>\n",
              "      <td>1</td>\n",
              "      <td>16</td>\n",
              "      <td>0</td>\n",
              "      <td>0</td>\n",
              "      <td>0</td>\n",
              "      <td>1</td>\n",
              "      <td>0</td>\n",
              "      <td>0</td>\n",
              "      <td>0</td>\n",
              "      <td>1</td>\n",
              "      <td>0</td>\n",
              "      <td>1</td>\n",
              "      <td>0</td>\n",
              "      <td>0</td>\n",
              "      <td>0</td>\n",
              "      <td>1</td>\n",
              "      <td>0</td>\n",
              "      <td>0</td>\n",
              "      <td>0</td>\n",
              "      <td>0</td>\n",
              "      <td>0</td>\n",
              "      <td>1</td>\n",
              "    </tr>\n",
              "    <tr>\n",
              "      <th>2</th>\n",
              "      <td>1</td>\n",
              "      <td>0.0</td>\n",
              "      <td>0</td>\n",
              "      <td>1</td>\n",
              "      <td>1422.10</td>\n",
              "      <td>1422.10</td>\n",
              "      <td>0.00</td>\n",
              "      <td>1422.100000</td>\n",
              "      <td>0</td>\n",
              "      <td>1</td>\n",
              "      <td>0</td>\n",
              "      <td>1</td>\n",
              "      <td>0.000000</td>\n",
              "      <td>625.779478</td>\n",
              "      <td>0</td>\n",
              "      <td>1</td>\n",
              "      <td>0</td>\n",
              "      <td>0</td>\n",
              "      <td>0</td>\n",
              "      <td>0</td>\n",
              "      <td>0</td>\n",
              "      <td>0</td>\n",
              "      <td>1</td>\n",
              "      <td>1</td>\n",
              "      <td>1</td>\n",
              "      <td>0</td>\n",
              "      <td>0</td>\n",
              "      <td>0</td>\n",
              "      <td>1</td>\n",
              "      <td>0</td>\n",
              "      <td>0</td>\n",
              "      <td>0</td>\n",
              "      <td>0</td>\n",
              "      <td>0</td>\n",
              "      <td>0</td>\n",
              "      <td>0</td>\n",
              "    </tr>\n",
              "    <tr>\n",
              "      <th>3</th>\n",
              "      <td>1</td>\n",
              "      <td>0.0</td>\n",
              "      <td>0</td>\n",
              "      <td>1</td>\n",
              "      <td>308.63</td>\n",
              "      <td>308.63</td>\n",
              "      <td>0.00</td>\n",
              "      <td>308.630000</td>\n",
              "      <td>0</td>\n",
              "      <td>1</td>\n",
              "      <td>0</td>\n",
              "      <td>1</td>\n",
              "      <td>0.000000</td>\n",
              "      <td>609.110000</td>\n",
              "      <td>0</td>\n",
              "      <td>1</td>\n",
              "      <td>0</td>\n",
              "      <td>0</td>\n",
              "      <td>1</td>\n",
              "      <td>0</td>\n",
              "      <td>0</td>\n",
              "      <td>0</td>\n",
              "      <td>0</td>\n",
              "      <td>1</td>\n",
              "      <td>1</td>\n",
              "      <td>0</td>\n",
              "      <td>0</td>\n",
              "      <td>0</td>\n",
              "      <td>0</td>\n",
              "      <td>1</td>\n",
              "      <td>0</td>\n",
              "      <td>0</td>\n",
              "      <td>0</td>\n",
              "      <td>0</td>\n",
              "      <td>0</td>\n",
              "      <td>0</td>\n",
              "    </tr>\n",
              "    <tr>\n",
              "      <th>4</th>\n",
              "      <td>11</td>\n",
              "      <td>509.0</td>\n",
              "      <td>4</td>\n",
              "      <td>6</td>\n",
              "      <td>171.90</td>\n",
              "      <td>131.51</td>\n",
              "      <td>171.90</td>\n",
              "      <td>158.220000</td>\n",
              "      <td>4</td>\n",
              "      <td>6</td>\n",
              "      <td>4</td>\n",
              "      <td>6</td>\n",
              "      <td>153.899000</td>\n",
              "      <td>150.426207</td>\n",
              "      <td>4</td>\n",
              "      <td>6</td>\n",
              "      <td>1</td>\n",
              "      <td>0</td>\n",
              "      <td>0</td>\n",
              "      <td>0</td>\n",
              "      <td>0</td>\n",
              "      <td>0</td>\n",
              "      <td>0</td>\n",
              "      <td>1</td>\n",
              "      <td>0</td>\n",
              "      <td>1</td>\n",
              "      <td>0</td>\n",
              "      <td>0</td>\n",
              "      <td>1</td>\n",
              "      <td>0</td>\n",
              "      <td>0</td>\n",
              "      <td>0</td>\n",
              "      <td>0</td>\n",
              "      <td>0</td>\n",
              "      <td>0</td>\n",
              "      <td>1</td>\n",
              "    </tr>\n",
              "  </tbody>\n",
              "</table>\n",
              "</div>"
            ],
            "text/plain": [
              "   TotalEventsInSession  interactionTime  ...  Weekend  Purchase\n",
              "0                     7            493.0  ...        0         0\n",
              "1                    18            585.0  ...        0         1\n",
              "2                     1              0.0  ...        0         0\n",
              "3                     1              0.0  ...        0         0\n",
              "4                    11            509.0  ...        0         1\n",
              "\n",
              "[5 rows x 36 columns]"
            ]
          },
          "metadata": {
            "tags": []
          },
          "execution_count": 5
        }
      ]
    },
    {
      "cell_type": "markdown",
      "metadata": {
        "id": "ptSEMwzY-I-q"
      },
      "source": [
        "## 1.5M session-level records are given to you. Your goal is to find which data set is best for session-level \"purchase\" classification!"
      ]
    },
    {
      "cell_type": "markdown",
      "metadata": {
        "id": "qW9BT7eS-oH7"
      },
      "source": [
        "# Task 1 [Instructor Led]: Generate Data models out of sequence data per session. \r\n",
        "Here, sequence of events (view, cart, remove, purchase) are to be generated per session to see if the sequences just by themselves can indicate if a purchase would occur by the end of the session or not!\r\n",
        "This work is the modification from the paper: https://arxiv.org/ftp/arxiv/papers/2010/2010.02503.pdf"
      ]
    },
    {
      "cell_type": "markdown",
      "metadata": {
        "id": "1nW-ZTezxAEw"
      },
      "source": [
        "## Step 1: Create sequence data per session"
      ]
    },
    {
      "cell_type": "code",
      "metadata": {
        "id": "z7fl9XZMP6f0"
      },
      "source": [
        "# Convert the Events to numeric sequences\n",
        "events = {'purchase':1,'cart': 2,'view': 3, 'remove_from_cart':4}\n",
        "data['event'] = data.event_type.map(events)"
      ],
      "execution_count": 6,
      "outputs": []
    },
    {
      "cell_type": "code",
      "metadata": {
        "id": "_XPpZb68P6f0",
        "colab": {
          "base_uri": "https://localhost:8080/",
          "height": 204
        },
        "outputId": "970604fd-7a13-4a38-d711-a80c91b3676e"
      },
      "source": [
        "# Sort the events by 'event time'\r\n",
        "data = data.sort_values('event_time')\r\n",
        "data.head()"
      ],
      "execution_count": 7,
      "outputs": [
        {
          "output_type": "execute_result",
          "data": {
            "text/html": [
              "<div>\n",
              "<style scoped>\n",
              "    .dataframe tbody tr th:only-of-type {\n",
              "        vertical-align: middle;\n",
              "    }\n",
              "\n",
              "    .dataframe tbody tr th {\n",
              "        vertical-align: top;\n",
              "    }\n",
              "\n",
              "    .dataframe thead th {\n",
              "        text-align: right;\n",
              "    }\n",
              "</style>\n",
              "<table border=\"1\" class=\"dataframe\">\n",
              "  <thead>\n",
              "    <tr style=\"text-align: right;\">\n",
              "      <th></th>\n",
              "      <th>event_time</th>\n",
              "      <th>event_type</th>\n",
              "      <th>product_id</th>\n",
              "      <th>category_id</th>\n",
              "      <th>brand</th>\n",
              "      <th>price</th>\n",
              "      <th>user_id</th>\n",
              "      <th>user_session</th>\n",
              "      <th>year</th>\n",
              "      <th>month</th>\n",
              "      <th>weekday</th>\n",
              "      <th>hour</th>\n",
              "      <th>event</th>\n",
              "    </tr>\n",
              "  </thead>\n",
              "  <tbody>\n",
              "    <tr>\n",
              "      <th>0</th>\n",
              "      <td>2019-12-01 00:00:00</td>\n",
              "      <td>remove_from_cart</td>\n",
              "      <td>5712790</td>\n",
              "      <td>1487580005268456287</td>\n",
              "      <td>f.o.x</td>\n",
              "      <td>6.27</td>\n",
              "      <td>576802932</td>\n",
              "      <td>51d85cb0-897f-48d2-918b-ad63965c12dc</td>\n",
              "      <td>2019</td>\n",
              "      <td>12</td>\n",
              "      <td>Sunday</td>\n",
              "      <td>0</td>\n",
              "      <td>4</td>\n",
              "    </tr>\n",
              "    <tr>\n",
              "      <th>1</th>\n",
              "      <td>2019-12-01 00:00:00</td>\n",
              "      <td>view</td>\n",
              "      <td>5764655</td>\n",
              "      <td>1487580005411062629</td>\n",
              "      <td>cnd</td>\n",
              "      <td>29.05</td>\n",
              "      <td>412120092</td>\n",
              "      <td>8adff31e-2051-4894-9758-224bfa8aec18</td>\n",
              "      <td>2019</td>\n",
              "      <td>12</td>\n",
              "      <td>Sunday</td>\n",
              "      <td>0</td>\n",
              "      <td>3</td>\n",
              "    </tr>\n",
              "    <tr>\n",
              "      <th>2</th>\n",
              "      <td>2019-12-01 00:00:02</td>\n",
              "      <td>cart</td>\n",
              "      <td>4958</td>\n",
              "      <td>1487580009471148064</td>\n",
              "      <td>runail</td>\n",
              "      <td>1.19</td>\n",
              "      <td>494077766</td>\n",
              "      <td>c99a50e8-2fac-4c4d-89ec-41c05f114554</td>\n",
              "      <td>2019</td>\n",
              "      <td>12</td>\n",
              "      <td>Sunday</td>\n",
              "      <td>0</td>\n",
              "      <td>2</td>\n",
              "    </tr>\n",
              "    <tr>\n",
              "      <th>3</th>\n",
              "      <td>2019-12-01 00:00:05</td>\n",
              "      <td>view</td>\n",
              "      <td>5848413</td>\n",
              "      <td>1487580007675986893</td>\n",
              "      <td>freedecor</td>\n",
              "      <td>0.79</td>\n",
              "      <td>348405118</td>\n",
              "      <td>722ffea5-73c0-4924-8e8f-371ff8031af4</td>\n",
              "      <td>2019</td>\n",
              "      <td>12</td>\n",
              "      <td>Sunday</td>\n",
              "      <td>0</td>\n",
              "      <td>3</td>\n",
              "    </tr>\n",
              "    <tr>\n",
              "      <th>4</th>\n",
              "      <td>2019-12-01 00:00:07</td>\n",
              "      <td>view</td>\n",
              "      <td>5824148</td>\n",
              "      <td>1487580005511725929</td>\n",
              "      <td>nan</td>\n",
              "      <td>5.56</td>\n",
              "      <td>576005683</td>\n",
              "      <td>28172809-7e4a-45ce-bab0-5efa90117cd5</td>\n",
              "      <td>2019</td>\n",
              "      <td>12</td>\n",
              "      <td>Sunday</td>\n",
              "      <td>0</td>\n",
              "      <td>3</td>\n",
              "    </tr>\n",
              "  </tbody>\n",
              "</table>\n",
              "</div>"
            ],
            "text/plain": [
              "           event_time        event_type  product_id  ...  weekday hour  event\n",
              "0 2019-12-01 00:00:00  remove_from_cart     5712790  ...   Sunday    0      4\n",
              "1 2019-12-01 00:00:00              view     5764655  ...   Sunday    0      3\n",
              "2 2019-12-01 00:00:02              cart        4958  ...   Sunday    0      2\n",
              "3 2019-12-01 00:00:05              view     5848413  ...   Sunday    0      3\n",
              "4 2019-12-01 00:00:07              view     5824148  ...   Sunday    0      3\n",
              "\n",
              "[5 rows x 13 columns]"
            ]
          },
          "metadata": {
            "tags": []
          },
          "execution_count": 7
        }
      ]
    },
    {
      "cell_type": "markdown",
      "metadata": {
        "id": "kkFzILKzkRrt"
      },
      "source": [
        "Next, pre-process the data to extract a Purchase (event=1) or not (event>1) label."
      ]
    },
    {
      "cell_type": "code",
      "metadata": {
        "id": "YEOeD6osP6f1"
      },
      "source": [
        "sequence = data.groupby('user_session')['event'].apply(list)\r\n",
        "sequence = sequence.reset_index()\r\n",
        "sequence['purchase'] = sequence['event'].apply(lambda x: 1 if 1 in x else 0)\r\n",
        "sequence = sequence[sequence['event'].map(len)> 1]"
      ],
      "execution_count": 8,
      "outputs": []
    },
    {
      "cell_type": "code",
      "metadata": {
        "scrolled": true,
        "id": "fl26fdnvP6f4",
        "colab": {
          "base_uri": "https://localhost:8080/",
          "height": 221
        },
        "outputId": "9503dd14-695f-4ff0-99ef-5a609ec79378"
      },
      "source": [
        "#The sequence data should not contain the \"purchase field\" so it is filtered out\r\n",
        "sequence['event']= sequence.event.apply(lambda row: list(filter(lambda a: a != 1, row)))\r\n",
        "print('Total number of records=', sequence.shape[0])\r\n",
        "sequence.head()"
      ],
      "execution_count": 9,
      "outputs": [
        {
          "output_type": "stream",
          "text": [
            "Total number of records= 119480\n"
          ],
          "name": "stdout"
        },
        {
          "output_type": "execute_result",
          "data": {
            "text/html": [
              "<div>\n",
              "<style scoped>\n",
              "    .dataframe tbody tr th:only-of-type {\n",
              "        vertical-align: middle;\n",
              "    }\n",
              "\n",
              "    .dataframe tbody tr th {\n",
              "        vertical-align: top;\n",
              "    }\n",
              "\n",
              "    .dataframe thead th {\n",
              "        text-align: right;\n",
              "    }\n",
              "</style>\n",
              "<table border=\"1\" class=\"dataframe\">\n",
              "  <thead>\n",
              "    <tr style=\"text-align: right;\">\n",
              "      <th></th>\n",
              "      <th>user_session</th>\n",
              "      <th>event</th>\n",
              "      <th>purchase</th>\n",
              "    </tr>\n",
              "  </thead>\n",
              "  <tbody>\n",
              "    <tr>\n",
              "      <th>2</th>\n",
              "      <td>00018d32-afba-4db8-9d3d-562c83580579</td>\n",
              "      <td>[3, 2]</td>\n",
              "      <td>0</td>\n",
              "    </tr>\n",
              "    <tr>\n",
              "      <th>4</th>\n",
              "      <td>0001d956-e104-487b-a045-3864d7b9a022</td>\n",
              "      <td>[2, 2, 2, 2, 2, 2, 2]</td>\n",
              "      <td>0</td>\n",
              "    </tr>\n",
              "    <tr>\n",
              "      <th>5</th>\n",
              "      <td>0001ebd4-441d-4c2f-a888-929a63b2afe3</td>\n",
              "      <td>[3, 3, 3, 3, 3, 3, 3, 3]</td>\n",
              "      <td>0</td>\n",
              "    </tr>\n",
              "    <tr>\n",
              "      <th>7</th>\n",
              "      <td>00027027-c51e-4b8f-82bc-0122b3d44204</td>\n",
              "      <td>[3, 3, 3, 3, 3, 3, 3, 3, 3, 3, 2, 2, 2, 3, 3, ...</td>\n",
              "      <td>0</td>\n",
              "    </tr>\n",
              "    <tr>\n",
              "      <th>9</th>\n",
              "      <td>0002b72e-c9b0-4b2e-99c8-a6c8630c4cfe</td>\n",
              "      <td>[2, 3, 2, 2, 4, 4, 4, 4, 4, 4, 3, 3, 3, 4, 4, ...</td>\n",
              "      <td>0</td>\n",
              "    </tr>\n",
              "  </tbody>\n",
              "</table>\n",
              "</div>"
            ],
            "text/plain": [
              "                           user_session  ... purchase\n",
              "2  00018d32-afba-4db8-9d3d-562c83580579  ...        0\n",
              "4  0001d956-e104-487b-a045-3864d7b9a022  ...        0\n",
              "5  0001ebd4-441d-4c2f-a888-929a63b2afe3  ...        0\n",
              "7  00027027-c51e-4b8f-82bc-0122b3d44204  ...        0\n",
              "9  0002b72e-c9b0-4b2e-99c8-a6c8630c4cfe  ...        0\n",
              "\n",
              "[5 rows x 3 columns]"
            ]
          },
          "metadata": {
            "tags": []
          },
          "execution_count": 9
        }
      ]
    },
    {
      "cell_type": "markdown",
      "metadata": {
        "id": "pU6mRjRiEGHZ"
      },
      "source": [
        "# So 'sequence' represents data regarding per-session browsing sequence.\r\n",
        "But what does an average sequence look like? Can some sequences be specifically long and others be too short? Lets analyze..."
      ]
    },
    {
      "cell_type": "code",
      "metadata": {
        "id": "K2Mf3A5yP6f4"
      },
      "source": [
        "#Find the length of events per user-session\r\n",
        "length = sequence['event'].map(len).to_list()"
      ],
      "execution_count": 10,
      "outputs": []
    },
    {
      "cell_type": "code",
      "metadata": {
        "id": "MJrKuMCDP6f5"
      },
      "source": [
        "import seaborn as sns"
      ],
      "execution_count": 11,
      "outputs": []
    },
    {
      "cell_type": "code",
      "metadata": {
        "id": "agn_AM6dP6f5",
        "colab": {
          "base_uri": "https://localhost:8080/",
          "height": 336
        },
        "outputId": "a6070e45-6280-4278-c1b3-83224f422aa5"
      },
      "source": [
        "sns.distplot(length)"
      ],
      "execution_count": 12,
      "outputs": [
        {
          "output_type": "stream",
          "text": [
            "/usr/local/lib/python3.6/dist-packages/seaborn/distributions.py:2557: FutureWarning: `distplot` is a deprecated function and will be removed in a future version. Please adapt your code to use either `displot` (a figure-level function with similar flexibility) or `histplot` (an axes-level function for histograms).\n",
            "  warnings.warn(msg, FutureWarning)\n"
          ],
          "name": "stderr"
        },
        {
          "output_type": "execute_result",
          "data": {
            "text/plain": [
              "<matplotlib.axes._subplots.AxesSubplot at 0x7fb0d09ecc18>"
            ]
          },
          "metadata": {
            "tags": []
          },
          "execution_count": 12
        },
        {
          "output_type": "display_data",
          "data": {
            "image/png": "[encoded data removed]",
            "text/plain": [
              "<Figure size 432x288 with 1 Axes>"
            ]
          },
          "metadata": {
            "tags": [],
            "needs_background": "light"
          }
        }
      ]
    },
    {
      "cell_type": "markdown",
      "metadata": {
        "id": "alxwobvPP6f6"
      },
      "source": [
        "# So we see, most sequences are about 100 or shorter. \r\n",
        "One major task is to find the optimal sequence size for highet prediction accuracy. Lets try for small and large sequence sizes to find the difference!\r\n",
        "# Step 2: Lets analyze upto size 10 sequences and upto size 100 sequences separately!"
      ]
    },
    {
      "cell_type": "code",
      "metadata": {
        "id": "dLZ-S5lxP6f6"
      },
      "source": [
        "# select all sequences that are upto 10 events long. Discard remaining sequences.\r\n",
        "short_sequence_10 = sequence[sequence['event'].map(len) <= 10]"
      ],
      "execution_count": 13,
      "outputs": []
    },
    {
      "cell_type": "code",
      "metadata": {
        "id": "Fzy_4xh3P6f7",
        "colab": {
          "base_uri": "https://localhost:8080/",
          "height": 419
        },
        "outputId": "98f2af53-854b-46be-8ae5-d85fe69528f3"
      },
      "source": [
        "#Lets see how many records come up\r\n",
        "short_sequence_10"
      ],
      "execution_count": 14,
      "outputs": [
        {
          "output_type": "execute_result",
          "data": {
            "text/html": [
              "<div>\n",
              "<style scoped>\n",
              "    .dataframe tbody tr th:only-of-type {\n",
              "        vertical-align: middle;\n",
              "    }\n",
              "\n",
              "    .dataframe tbody tr th {\n",
              "        vertical-align: top;\n",
              "    }\n",
              "\n",
              "    .dataframe thead th {\n",
              "        text-align: right;\n",
              "    }\n",
              "</style>\n",
              "<table border=\"1\" class=\"dataframe\">\n",
              "  <thead>\n",
              "    <tr style=\"text-align: right;\">\n",
              "      <th></th>\n",
              "      <th>user_session</th>\n",
              "      <th>event</th>\n",
              "      <th>purchase</th>\n",
              "    </tr>\n",
              "  </thead>\n",
              "  <tbody>\n",
              "    <tr>\n",
              "      <th>2</th>\n",
              "      <td>00018d32-afba-4db8-9d3d-562c83580579</td>\n",
              "      <td>[3, 2]</td>\n",
              "      <td>0</td>\n",
              "    </tr>\n",
              "    <tr>\n",
              "      <th>4</th>\n",
              "      <td>0001d956-e104-487b-a045-3864d7b9a022</td>\n",
              "      <td>[2, 2, 2, 2, 2, 2, 2]</td>\n",
              "      <td>0</td>\n",
              "    </tr>\n",
              "    <tr>\n",
              "      <th>5</th>\n",
              "      <td>0001ebd4-441d-4c2f-a888-929a63b2afe3</td>\n",
              "      <td>[3, 3, 3, 3, 3, 3, 3, 3]</td>\n",
              "      <td>0</td>\n",
              "    </tr>\n",
              "    <tr>\n",
              "      <th>10</th>\n",
              "      <td>0002ba44-8b73-4ace-b7c8-fe946aa63cc2</td>\n",
              "      <td>[3, 2, 2]</td>\n",
              "      <td>0</td>\n",
              "    </tr>\n",
              "    <tr>\n",
              "      <th>17</th>\n",
              "      <td>0003d895-8dd0-47c2-94e0-92f7a9031c74</td>\n",
              "      <td>[3, 3]</td>\n",
              "      <td>0</td>\n",
              "    </tr>\n",
              "    <tr>\n",
              "      <th>...</th>\n",
              "      <td>...</td>\n",
              "      <td>...</td>\n",
              "      <td>...</td>\n",
              "    </tr>\n",
              "    <tr>\n",
              "      <th>336954</th>\n",
              "      <td>fffb5277-899a-46d8-b51e-2c1f61880f4e</td>\n",
              "      <td>[3, 2]</td>\n",
              "      <td>0</td>\n",
              "    </tr>\n",
              "    <tr>\n",
              "      <th>336963</th>\n",
              "      <td>fffcec5a-c2e3-4e13-8f40-a63f7d14c81f</td>\n",
              "      <td>[4, 4]</td>\n",
              "      <td>0</td>\n",
              "    </tr>\n",
              "    <tr>\n",
              "      <th>336965</th>\n",
              "      <td>fffd3d91-5734-42ac-b149-7403417ec3e2</td>\n",
              "      <td>[3, 3, 3, 3, 3]</td>\n",
              "      <td>0</td>\n",
              "    </tr>\n",
              "    <tr>\n",
              "      <th>336966</th>\n",
              "      <td>fffd5100-6389-486d-8732-9066c47f7ba1</td>\n",
              "      <td>[3, 3, 2, 3, 3]</td>\n",
              "      <td>0</td>\n",
              "    </tr>\n",
              "    <tr>\n",
              "      <th>336974</th>\n",
              "      <td>ffff19e6-2095-4104-b1ac-00cd5f43f0e0</td>\n",
              "      <td>[3, 2, 3]</td>\n",
              "      <td>0</td>\n",
              "    </tr>\n",
              "  </tbody>\n",
              "</table>\n",
              "<p>91715 rows × 3 columns</p>\n",
              "</div>"
            ],
            "text/plain": [
              "                                user_session  ... purchase\n",
              "2       00018d32-afba-4db8-9d3d-562c83580579  ...        0\n",
              "4       0001d956-e104-487b-a045-3864d7b9a022  ...        0\n",
              "5       0001ebd4-441d-4c2f-a888-929a63b2afe3  ...        0\n",
              "10      0002ba44-8b73-4ace-b7c8-fe946aa63cc2  ...        0\n",
              "17      0003d895-8dd0-47c2-94e0-92f7a9031c74  ...        0\n",
              "...                                      ...  ...      ...\n",
              "336954  fffb5277-899a-46d8-b51e-2c1f61880f4e  ...        0\n",
              "336963  fffcec5a-c2e3-4e13-8f40-a63f7d14c81f  ...        0\n",
              "336965  fffd3d91-5734-42ac-b149-7403417ec3e2  ...        0\n",
              "336966  fffd5100-6389-486d-8732-9066c47f7ba1  ...        0\n",
              "336974  ffff19e6-2095-4104-b1ac-00cd5f43f0e0  ...        0\n",
              "\n",
              "[91715 rows x 3 columns]"
            ]
          },
          "metadata": {
            "tags": []
          },
          "execution_count": 14
        }
      ]
    },
    {
      "cell_type": "markdown",
      "metadata": {
        "id": "uDScrStaFqnm"
      },
      "source": [
        "# Now that you have the limited sequence data, create a data model for it.\r\n",
        "# Step 3: Fitting data models: Simple RNN, GRU, LSTM to predict sessions that have a 'purchase' in them.\r\n",
        "\r\n",
        "Apply 70/30 split to data and implement sequence models"
      ]
    },
    {
      "cell_type": "code",
      "metadata": {
        "id": "K6qRStdGP6f7"
      },
      "source": [
        "event_sequence = short_sequence_10['event'].to_list()"
      ],
      "execution_count": 15,
      "outputs": []
    },
    {
      "cell_type": "code",
      "metadata": {
        "id": "MKLHK-SdP6f8"
      },
      "source": [
        "# Pad all sequences with zeros so all inputs have same consistent size of 10\n",
        "from keras.preprocessing.sequence import pad_sequences\n",
        "from sklearn.model_selection import train_test_split\n",
        "event = pad_sequences(event_sequence)"
      ],
      "execution_count": 16,
      "outputs": []
    },
    {
      "cell_type": "code",
      "metadata": {
        "scrolled": true,
        "id": "ZuOIbSAcP6f8",
        "colab": {
          "base_uri": "https://localhost:8080/"
        },
        "outputId": "fc5e26d4-2ac5-49d3-bfaa-9e2da4f8cb59"
      },
      "source": [
        "# One Hot Encoding the Purchase label\n",
        "y = np.array(pd.get_dummies(short_sequence_10['purchase'],prefix='Purchase'))\n",
        "z=np.sum(y[:,1])/len(y)\n",
        "print('Percentage of Purchase sessions=',z*100)"
      ],
      "execution_count": 17,
      "outputs": [
        {
          "output_type": "stream",
          "text": [
            "Percentage of Purchase sessions= 6.487488415199258\n"
          ],
          "name": "stdout"
        }
      ]
    },
    {
      "cell_type": "code",
      "metadata": {
        "id": "BbwdeT39h6l5"
      },
      "source": [
        "#Define a function to generate 70/30 data split followed by data resizing!\r\n",
        "def prepare_train_test_data(data,y):\r\n",
        "  #input is data[nxd] and Y[nx2], outputs 70/30 split formatted for the sequence models\r\n",
        "  X_train, X_test, y_train, y_test = train_test_split(data, y,                              \r\n",
        "                                                    test_size=0.3)\r\n",
        "  #Resizing is necessary since input to sequence models is (1,d)\r\n",
        "  X_train = X_train.reshape((X_train.shape[0], 1, X_train.shape[1]))\r\n",
        "  X_test = X_test.reshape((X_test.shape[0], 1, X_test.shape[1]))\r\n",
        "  return (X_train,X_test,y_train,y_test)"
      ],
      "execution_count": 18,
      "outputs": []
    },
    {
      "cell_type": "code",
      "metadata": {
        "id": "rjK0Z2WQP6f9",
        "colab": {
          "base_uri": "https://localhost:8080/"
        },
        "outputId": "65f7636f-16bc-4c4e-dedd-3acc8348ce72"
      },
      "source": [
        "X_train, X_test, y_train, y_test=prepare_train_test_data(np.array(event),y)\r\n",
        "print(X_train.shape, y_train.shape)"
      ],
      "execution_count": 19,
      "outputs": [
        {
          "output_type": "stream",
          "text": [
            "(64200, 1, 10) (64200, 2)\n"
          ],
          "name": "stdout"
        }
      ]
    },
    {
      "cell_type": "markdown",
      "metadata": {
        "id": "krjPyvUzP6f_"
      },
      "source": [
        "## Finally, train and test a sequence model built using: SimpleRNN, GRU and LSTM and compare results!"
      ]
    },
    {
      "cell_type": "code",
      "metadata": {
        "id": "wlp3503JIL83"
      },
      "source": [
        "#Helper functions for this:\r\n",
        "import matplotlib.pyplot as plt\r\n",
        "from sklearn.metrics import confusion_matrix\r\n",
        "\r\n",
        "# demonstration of calculating metrics for a neural network model using sklearn\r\n",
        "from sklearn.datasets import make_circles\r\n",
        "from sklearn.metrics import accuracy_score\r\n",
        "from sklearn.metrics import precision_score\r\n",
        "from sklearn.metrics import recall_score\r\n",
        "from sklearn.metrics import f1_score\r\n",
        "from sklearn.metrics import cohen_kappa_score\r\n",
        "from sklearn.metrics import roc_auc_score\r\n",
        "\r\n",
        "\r\n",
        "def plot_history(history):\r\n",
        "  # This function will plot the model fit process\r\n",
        "  print(history.history.keys())\r\n",
        "  # summarize history for accuracy\r\n",
        "  plt.plot(history.history['acc'])\r\n",
        "  plt.plot(history.history['val_acc'])\r\n",
        "  plt.title('model accuracy')\r\n",
        "  plt.ylabel('acc')\r\n",
        "  plt.xlabel('epoch')\r\n",
        "  plt.legend(['train', 'test'], loc='upper left')\r\n",
        "  plt.show()\r\n",
        "  # summarize history for loss\r\n",
        "  plt.plot(history.history['loss'])\r\n",
        "  plt.plot(history.history['val_loss'])\r\n",
        "  plt.title('model loss')\r\n",
        "  plt.ylabel('loss')\r\n",
        "  plt.xlabel('epoch')\r\n",
        "  plt.legend(['train', 'test'], loc='upper left')\r\n",
        "  plt.show()\r\n",
        "\r\n",
        "\r\n",
        "def evaluate_on_test(X_test, y_test, training_model):\r\n",
        "  #This function will evaluate the fit model on test data\r\n",
        "  g_preds=training_model.predict_classes(X_test)\r\n",
        "  gaccuracy = accuracy_score(y_test[:,1], g_preds)\r\n",
        "  print('Accuracy: %f' % gaccuracy)\r\n",
        "  # precision tp / (tp + fp)\r\n",
        "  gprecision = precision_score(y_test[:,1], g_preds)\r\n",
        "  print('Precision: %f' % gprecision)\r\n",
        "  # recall: tp / (tp + fn)\r\n",
        "  grecall = recall_score(y_test[:,1], g_preds)\r\n",
        "  print('Recall: %f' % grecall)\r\n",
        "  # f1: 2 tp / (2 tp + fp + fn)\r\n",
        "  gf1 = f1_score(y_test[:,1], g_preds)\r\n",
        "  print('F1 score: %f' % gf1)\r\n",
        "  return gaccuracy, gprecision, grecall, gf1\r\n"
      ],
      "execution_count": 20,
      "outputs": []
    },
    {
      "cell_type": "markdown",
      "metadata": {
        "id": "_ORGIGQSI3Ei"
      },
      "source": [
        "# The following example shows a model designed using Simple RNN. Repeat the same using GRU and LSTM."
      ]
    },
    {
      "cell_type": "code",
      "metadata": {
        "id": "ytK1F5UMI6EC"
      },
      "source": [
        "from tensorflow.keras.layers import GRU, Embedding, SimpleRNN, Activation\r\n",
        "import tensorflow as tf"
      ],
      "execution_count": 21,
      "outputs": []
    },
    {
      "cell_type": "code",
      "metadata": {
        "id": "p8fOqyJPJDc5"
      },
      "source": [
        "#This is a simple RNN model\r\n",
        "def simple_RNN_model(neurons=40, op=10):\r\n",
        "    model = Sequential()\r\n",
        "    model.add(SimpleRNN(neurons, return_sequences = True, input_shape = (1,op)))\r\n",
        "    model.add(SimpleRNN(2*neurons))\r\n",
        "    model.add(Dense(2, activation='softmax'))\r\n",
        "    model.compile(\r\n",
        "      optimizer=tf.optimizers.Adam(learning_rate=0.0003),\r\n",
        "      loss='binary_crossentropy',\r\n",
        "      metrics=['acc'])\r\n",
        "    return model"
      ],
      "execution_count": 22,
      "outputs": []
    },
    {
      "cell_type": "code",
      "metadata": {
        "colab": {
          "base_uri": "https://localhost:8080/"
        },
        "id": "1cuwPUcLJvh6",
        "outputId": "d65689ba-f495-4e1f-cbc2-895484c8cf46"
      },
      "source": [
        "#Visualize the Model\r\n",
        "tf.keras.backend.clear_session()\r\n",
        "RNN_model = simple_RNN_model(neurons=40, op=10)\r\n",
        "RNN_model.summary()"
      ],
      "execution_count": 23,
      "outputs": [
        {
          "output_type": "stream",
          "text": [
            "Model: \"sequential\"\n",
            "_________________________________________________________________\n",
            "Layer (type)                 Output Shape              Param #   \n",
            "=================================================================\n",
            "simple_rnn (SimpleRNN)       (None, 1, 40)             2040      \n",
            "_________________________________________________________________\n",
            "simple_rnn_1 (SimpleRNN)     (None, 80)                9680      \n",
            "_________________________________________________________________\n",
            "dense (Dense)                (None, 2)                 162       \n",
            "=================================================================\n",
            "Total params: 11,882\n",
            "Trainable params: 11,882\n",
            "Non-trainable params: 0\n",
            "_________________________________________________________________\n"
          ],
          "name": "stdout"
        }
      ]
    },
    {
      "cell_type": "code",
      "metadata": {
        "colab": {
          "base_uri": "https://localhost:8080/"
        },
        "id": "IhdK1Xd6JJCw",
        "outputId": "d9563e47-6a3d-409d-e8e5-008e16e1aa32"
      },
      "source": [
        "#Fit the model using 80/20 validation split at runtime\r\n",
        "r_history = RNN_model.fit(X_train, y_train,\r\n",
        "                    epochs=20,\r\n",
        "                    batch_size=1000,#atleast 1000 records per epoch\r\n",
        "                    validation_split=0.2)"
      ],
      "execution_count": 24,
      "outputs": [
        {
          "output_type": "stream",
          "text": [
            "Epoch 1/20\n",
            "52/52 [==============================] - 3s 16ms/step - loss: 0.6769 - acc: 0.5435 - val_loss: 0.2795 - val_acc: 0.9350\n",
            "Epoch 2/20\n",
            "52/52 [==============================] - 0s 6ms/step - loss: 0.2518 - acc: 0.9359 - val_loss: 0.2234 - val_acc: 0.9350\n",
            "Epoch 3/20\n",
            "52/52 [==============================] - 0s 6ms/step - loss: 0.2195 - acc: 0.9350 - val_loss: 0.2135 - val_acc: 0.9350\n",
            "Epoch 4/20\n",
            "52/52 [==============================] - 0s 6ms/step - loss: 0.2061 - acc: 0.9362 - val_loss: 0.2084 - val_acc: 0.9350\n",
            "Epoch 5/20\n",
            "52/52 [==============================] - 0s 6ms/step - loss: 0.2041 - acc: 0.9360 - val_loss: 0.2053 - val_acc: 0.9350\n",
            "Epoch 6/20\n",
            "52/52 [==============================] - 0s 6ms/step - loss: 0.1985 - acc: 0.9373 - val_loss: 0.2034 - val_acc: 0.9350\n",
            "Epoch 7/20\n",
            "52/52 [==============================] - 0s 5ms/step - loss: 0.2027 - acc: 0.9348 - val_loss: 0.2019 - val_acc: 0.9350\n",
            "Epoch 8/20\n",
            "52/52 [==============================] - 0s 6ms/step - loss: 0.1984 - acc: 0.9361 - val_loss: 0.2005 - val_acc: 0.9350\n",
            "Epoch 9/20\n",
            "52/52 [==============================] - 0s 6ms/step - loss: 0.1990 - acc: 0.9377 - val_loss: 0.1992 - val_acc: 0.9442\n",
            "Epoch 10/20\n",
            "52/52 [==============================] - 0s 6ms/step - loss: 0.1922 - acc: 0.9481 - val_loss: 0.1980 - val_acc: 0.9442\n",
            "Epoch 11/20\n",
            "52/52 [==============================] - 0s 6ms/step - loss: 0.1979 - acc: 0.9451 - val_loss: 0.1969 - val_acc: 0.9442\n",
            "Epoch 12/20\n",
            "52/52 [==============================] - 0s 6ms/step - loss: 0.1903 - acc: 0.9476 - val_loss: 0.1959 - val_acc: 0.9442\n",
            "Epoch 13/20\n",
            "52/52 [==============================] - 0s 5ms/step - loss: 0.1916 - acc: 0.9467 - val_loss: 0.1949 - val_acc: 0.9442\n",
            "Epoch 14/20\n",
            "52/52 [==============================] - 0s 5ms/step - loss: 0.1917 - acc: 0.9461 - val_loss: 0.1940 - val_acc: 0.9464\n",
            "Epoch 15/20\n",
            "52/52 [==============================] - 0s 5ms/step - loss: 0.1882 - acc: 0.9493 - val_loss: 0.1931 - val_acc: 0.9503\n",
            "Epoch 16/20\n",
            "52/52 [==============================] - 0s 5ms/step - loss: 0.1882 - acc: 0.9518 - val_loss: 0.1924 - val_acc: 0.9503\n",
            "Epoch 17/20\n",
            "52/52 [==============================] - 0s 6ms/step - loss: 0.1890 - acc: 0.9514 - val_loss: 0.1917 - val_acc: 0.9503\n",
            "Epoch 18/20\n",
            "52/52 [==============================] - 0s 6ms/step - loss: 0.1857 - acc: 0.9520 - val_loss: 0.1910 - val_acc: 0.9503\n",
            "Epoch 19/20\n",
            "52/52 [==============================] - 0s 6ms/step - loss: 0.1866 - acc: 0.9518 - val_loss: 0.1905 - val_acc: 0.9503\n",
            "Epoch 20/20\n",
            "52/52 [==============================] - 0s 6ms/step - loss: 0.1896 - acc: 0.9503 - val_loss: 0.1900 - val_acc: 0.9503\n"
          ],
          "name": "stdout"
        }
      ]
    },
    {
      "cell_type": "code",
      "metadata": {
        "colab": {
          "base_uri": "https://localhost:8080/",
          "height": 590
        },
        "id": "zVJTgqvHJJFB",
        "outputId": "8001541c-580f-4881-f496-ef0f6195b879"
      },
      "source": [
        "plot_history(r_history)"
      ],
      "execution_count": 25,
      "outputs": [
        {
          "output_type": "stream",
          "text": [
            "dict_keys(['loss', 'acc', 'val_loss', 'val_acc'])\n"
          ],
          "name": "stdout"
        },
        {
          "output_type": "display_data",
          "data": {
            "image/png": "[encoded data removed]",
            "text/plain": [
              "<Figure size 432x288 with 1 Axes>"
            ]
          },
          "metadata": {
            "tags": [],
            "needs_background": "light"
          }
        },
        {
          "output_type": "display_data",
          "data": {
            "image/png": "[encoded data removed]",
            "text/plain": [
              "<Figure size 432x288 with 1 Axes>"
            ]
          },
          "metadata": {
            "tags": [],
            "needs_background": "light"
          }
        }
      ]
    },
    {
      "cell_type": "code",
      "metadata": {
        "colab": {
          "base_uri": "https://localhost:8080/"
        },
        "id": "ZRTCPXThJ38p",
        "outputId": "f39e4a34-f534-46b5-82d2-67e7ff8ec8e1"
      },
      "source": [
        "raccuracy, rprecision, rrecall, rf1 = evaluate_on_test(X_test,y_test,RNN_model)"
      ],
      "execution_count": 26,
      "outputs": [
        {
          "output_type": "stream",
          "text": [
            "/usr/local/lib/python3.6/dist-packages/tensorflow/python/keras/engine/sequential.py:450: UserWarning: `model.predict_classes()` is deprecated and will be removed after 2021-01-01. Please use instead:* `np.argmax(model.predict(x), axis=-1)`,   if your model does multi-class classification   (e.g. if it uses a `softmax` last-layer activation).* `(model.predict(x) > 0.5).astype(\"int32\")`,   if your model does binary classification   (e.g. if it uses a `sigmoid` last-layer activation).\n",
            "  warnings.warn('`model.predict_classes()` is deprecated and '\n"
          ],
          "name": "stderr"
        },
        {
          "output_type": "stream",
          "text": [
            "Accuracy: 0.951663\n",
            "Precision: 1.000000\n",
            "Recall: 0.262749\n",
            "F1 score: 0.416155\n"
          ],
          "name": "stdout"
        }
      ]
    },
    {
      "cell_type": "markdown",
      "metadata": {
        "id": "-IULjM4vLIUx"
      },
      "source": [
        "# Task 2: Run GRU and LSTM Models on the 10-sequence data. \r\n",
        "Which is the best model? What is the metric of most importance?\r\n"
      ]
    },
    {
      "cell_type": "code",
      "metadata": {
        "id": "s-zDi5ykLq2M"
      },
      "source": [
        "###############START CODE HERE##########################################################################\r\n",
        "#Define a GRU model function. Use the simple_RNN_model function and replace the RNN layers with GRU.\r\n",
        "#Notice the change in number of parameters\r\n",
        "def GRU_model(neurons=40, op=10):\r\n",
        "    model = Sequential()\r\n",
        "    model.add(GRU(neurons, return_sequences = True, input_shape = (1,op)))\r\n",
        "    model.add(GRU(2*neurons))\r\n",
        "    model.add(Dense(2, activation='softmax'))\r\n",
        "    model.compile(\r\n",
        "      optimizer=tf.optimizers.Adam(learning_rate=0.0003),\r\n",
        "      loss='binary_crossentropy',\r\n",
        "      metrics=['acc'])\r\n",
        "    return model\r\n"
      ],
      "execution_count": 27,
      "outputs": []
    },
    {
      "cell_type": "code",
      "metadata": {
        "id": "DEy3TOkMLy8T",
        "colab": {
          "base_uri": "https://localhost:8080/"
        },
        "outputId": "3ca5855d-fb12-4967-c8d6-f5b60d77a1b1"
      },
      "source": [
        "#Visualize the Model (Notice the increase in parameters)\r\n",
        "tf.keras.backend.clear_session()\r\n",
        "G_model = GRU_model()#neurons=40, op=10)\r\n",
        "G_model.summary()"
      ],
      "execution_count": 28,
      "outputs": [
        {
          "output_type": "stream",
          "text": [
            "Model: \"sequential\"\n",
            "_________________________________________________________________\n",
            "Layer (type)                 Output Shape              Param #   \n",
            "=================================================================\n",
            "gru (GRU)                    (None, 1, 40)             6240      \n",
            "_________________________________________________________________\n",
            "gru_1 (GRU)                  (None, 80)                29280     \n",
            "_________________________________________________________________\n",
            "dense (Dense)                (None, 2)                 162       \n",
            "=================================================================\n",
            "Total params: 35,682\n",
            "Trainable params: 35,682\n",
            "Non-trainable params: 0\n",
            "_________________________________________________________________\n"
          ],
          "name": "stdout"
        }
      ]
    },
    {
      "cell_type": "code",
      "metadata": {
        "id": "pcYsLzXWMIiB",
        "colab": {
          "base_uri": "https://localhost:8080/"
        },
        "outputId": "0a994c96-2102-445c-c51c-9818a7dcea1d"
      },
      "source": [
        "#Train the G_model (20 epochs, 1000 samples per batch, validation split=0.2)\n",
        "g_history = G_model.fit(X_train, y_train,\n",
        "                    epochs=20,\n",
        "                    batch_size=1000,\n",
        "                    validation_split=0.2)"
      ],
      "execution_count": 29,
      "outputs": [
        {
          "output_type": "stream",
          "text": [
            "Epoch 1/20\n",
            "52/52 [==============================] - 6s 18ms/step - loss: 0.6233 - acc: 0.8013 - val_loss: 0.3991 - val_acc: 0.9350\n",
            "Epoch 2/20\n",
            "52/52 [==============================] - 0s 6ms/step - loss: 0.3408 - acc: 0.9375 - val_loss: 0.2411 - val_acc: 0.9350\n",
            "Epoch 3/20\n",
            "52/52 [==============================] - 0s 6ms/step - loss: 0.2287 - acc: 0.9364 - val_loss: 0.2190 - val_acc: 0.9350\n",
            "Epoch 4/20\n",
            "52/52 [==============================] - 0s 6ms/step - loss: 0.2154 - acc: 0.9348 - val_loss: 0.2123 - val_acc: 0.9350\n",
            "Epoch 5/20\n",
            "52/52 [==============================] - 0s 6ms/step - loss: 0.2115 - acc: 0.9348 - val_loss: 0.2092 - val_acc: 0.9350\n",
            "Epoch 6/20\n",
            "52/52 [==============================] - 0s 6ms/step - loss: 0.2053 - acc: 0.9357 - val_loss: 0.2075 - val_acc: 0.9350\n",
            "Epoch 7/20\n",
            "52/52 [==============================] - 0s 6ms/step - loss: 0.2038 - acc: 0.9361 - val_loss: 0.2063 - val_acc: 0.9350\n",
            "Epoch 8/20\n",
            "52/52 [==============================] - 0s 6ms/step - loss: 0.2055 - acc: 0.9352 - val_loss: 0.2054 - val_acc: 0.9350\n",
            "Epoch 9/20\n",
            "52/52 [==============================] - 0s 6ms/step - loss: 0.2022 - acc: 0.9362 - val_loss: 0.2044 - val_acc: 0.9350\n",
            "Epoch 10/20\n",
            "52/52 [==============================] - 0s 6ms/step - loss: 0.1996 - acc: 0.9366 - val_loss: 0.2034 - val_acc: 0.9350\n",
            "Epoch 11/20\n",
            "52/52 [==============================] - 0s 6ms/step - loss: 0.2008 - acc: 0.9357 - val_loss: 0.2025 - val_acc: 0.9350\n",
            "Epoch 12/20\n",
            "52/52 [==============================] - 0s 6ms/step - loss: 0.2016 - acc: 0.9351 - val_loss: 0.2015 - val_acc: 0.9350\n",
            "Epoch 13/20\n",
            "52/52 [==============================] - 0s 6ms/step - loss: 0.2007 - acc: 0.9346 - val_loss: 0.2004 - val_acc: 0.9350\n",
            "Epoch 14/20\n",
            "52/52 [==============================] - 0s 6ms/step - loss: 0.1980 - acc: 0.9384 - val_loss: 0.1993 - val_acc: 0.9442\n",
            "Epoch 15/20\n",
            "52/52 [==============================] - 0s 6ms/step - loss: 0.1985 - acc: 0.9457 - val_loss: 0.1983 - val_acc: 0.9442\n",
            "Epoch 16/20\n",
            "52/52 [==============================] - 0s 6ms/step - loss: 0.1975 - acc: 0.9460 - val_loss: 0.1972 - val_acc: 0.9442\n",
            "Epoch 17/20\n",
            "52/52 [==============================] - 0s 7ms/step - loss: 0.1953 - acc: 0.9463 - val_loss: 0.1960 - val_acc: 0.9442\n",
            "Epoch 18/20\n",
            "52/52 [==============================] - 0s 6ms/step - loss: 0.1974 - acc: 0.9452 - val_loss: 0.1950 - val_acc: 0.9442\n",
            "Epoch 19/20\n",
            "52/52 [==============================] - 0s 6ms/step - loss: 0.1899 - acc: 0.9470 - val_loss: 0.1939 - val_acc: 0.9442\n",
            "Epoch 20/20\n",
            "52/52 [==============================] - 0s 6ms/step - loss: 0.1949 - acc: 0.9452 - val_loss: 0.1930 - val_acc: 0.9464\n"
          ],
          "name": "stdout"
        }
      ]
    },
    {
      "cell_type": "code",
      "metadata": {
        "id": "0GdxIFEcMS94",
        "colab": {
          "base_uri": "https://localhost:8080/",
          "height": 590
        },
        "outputId": "31a391cd-3f89-46fe-f7b4-d664b9e44ad6"
      },
      "source": [
        "#Use plot_history function to plot the model curves for loss and accuracy\n",
        "plot_history(g_history)"
      ],
      "execution_count": 30,
      "outputs": [
        {
          "output_type": "stream",
          "text": [
            "dict_keys(['loss', 'acc', 'val_loss', 'val_acc'])\n"
          ],
          "name": "stdout"
        },
        {
          "output_type": "display_data",
          "data": {
            "image/png": "[encoded data removed]",
            "text/plain": [
              "<Figure size 432x288 with 1 Axes>"
            ]
          },
          "metadata": {
            "tags": [],
            "needs_background": "light"
          }
        },
        {
          "output_type": "display_data",
          "data": {
            "image/png": "[encoded data removed]",
            "text/plain": [
              "<Figure size 432x288 with 1 Axes>"
            ]
          },
          "metadata": {
            "tags": [],
            "needs_background": "light"
          }
        }
      ]
    },
    {
      "cell_type": "code",
      "metadata": {
        "id": "f4vFqrzPMWmY",
        "colab": {
          "base_uri": "https://localhost:8080/"
        },
        "outputId": "babda788-9620-45f7-ea1a-8b795785e59e"
      },
      "source": [
        "# Use evaluate_on_test function to note accuracy, precision, recall and F1 score on test data\n",
        "gaccuracy, gprecision, grecall, gf1 = evaluate_on_test(X_test,y_test,G_model)"
      ],
      "execution_count": 31,
      "outputs": [
        {
          "output_type": "stream",
          "text": [
            "/usr/local/lib/python3.6/dist-packages/tensorflow/python/keras/engine/sequential.py:450: UserWarning: `model.predict_classes()` is deprecated and will be removed after 2021-01-01. Please use instead:* `np.argmax(model.predict(x), axis=-1)`,   if your model does multi-class classification   (e.g. if it uses a `softmax` last-layer activation).* `(model.predict(x) > 0.5).astype(\"int32\")`,   if your model does binary classification   (e.g. if it uses a `sigmoid` last-layer activation).\n",
            "  warnings.warn('`model.predict_classes()` is deprecated and '\n"
          ],
          "name": "stderr"
        },
        {
          "output_type": "stream",
          "text": [
            "Accuracy: 0.947774\n",
            "Precision: 1.000000\n",
            "Recall: 0.203437\n",
            "F1 score: 0.338093\n"
          ],
          "name": "stdout"
        }
      ]
    },
    {
      "cell_type": "markdown",
      "metadata": {
        "id": "tfZHhIZW9zXI"
      },
      "source": [
        ""
      ]
    },
    {
      "cell_type": "code",
      "metadata": {
        "id": "62VFEslyqEWX"
      },
      "source": [
        "#Define an LSTM model function. Use the LSTM layer as shown below.\r\n",
        "#Notice the change in number of parameters\r\n",
        "def LSTM_model(neurons=40, op=10):\r\n",
        "  model = Sequential()\r\n",
        "  model.add(Bidirectional(LSTM(neurons, return_sequences=True), input_shape=(1,op)))\r\n",
        "  model.add(Bidirectional(LSTM(2*neurons)))\r\n",
        "  model.add(Dense(2, activation='softmax'))\r\n",
        "  model.compile(\r\n",
        "    optimizer=tf.optimizers.Adam(learning_rate=0.0003),\r\n",
        "    loss='binary_crossentropy',\r\n",
        "    metrics=['acc'])\r\n",
        "  return model"
      ],
      "execution_count": 32,
      "outputs": []
    },
    {
      "cell_type": "code",
      "metadata": {
        "id": "1HZqWlbtqegR",
        "colab": {
          "base_uri": "https://localhost:8080/"
        },
        "outputId": "d616aabb-6919-40c1-c1f9-d139b8244eb8"
      },
      "source": [
        "tf.keras.backend.clear_session()\r\n",
        "L_model = LSTM_model(neurons=40, op=10)\r\n",
        "L_model.summary()"
      ],
      "execution_count": 33,
      "outputs": [
        {
          "output_type": "stream",
          "text": [
            "Model: \"sequential\"\n",
            "_________________________________________________________________\n",
            "Layer (type)                 Output Shape              Param #   \n",
            "=================================================================\n",
            "bidirectional (Bidirectional (None, 1, 80)             16320     \n",
            "_________________________________________________________________\n",
            "bidirectional_1 (Bidirection (None, 160)               103040    \n",
            "_________________________________________________________________\n",
            "dense (Dense)                (None, 2)                 322       \n",
            "=================================================================\n",
            "Total params: 119,682\n",
            "Trainable params: 119,682\n",
            "Non-trainable params: 0\n",
            "_________________________________________________________________\n"
          ],
          "name": "stdout"
        }
      ]
    },
    {
      "cell_type": "code",
      "metadata": {
        "id": "duvgEdL-rur0",
        "colab": {
          "base_uri": "https://localhost:8080/"
        },
        "outputId": "e12e3d90-2480-43b0-f353-29f1f97176a2"
      },
      "source": [
        "#Train the training_model (20 epochs, 1000 samples per batch, validation split=0.2)\n",
        "L_history = L_model.fit(X_train, y_train,\n",
        "                    epochs=20,\n",
        "                    batch_size=1000,\n",
        "                    validation_split=0.2)"
      ],
      "execution_count": 34,
      "outputs": [
        {
          "output_type": "stream",
          "text": [
            "Epoch 1/20\n",
            "52/52 [==============================] - 7s 36ms/step - loss: 0.6298 - acc: 0.9381 - val_loss: 0.4441 - val_acc: 0.9350\n",
            "Epoch 2/20\n",
            "52/52 [==============================] - 1s 10ms/step - loss: 0.3706 - acc: 0.9365 - val_loss: 0.2446 - val_acc: 0.9350\n",
            "Epoch 3/20\n",
            "52/52 [==============================] - 1s 10ms/step - loss: 0.2349 - acc: 0.9338 - val_loss: 0.2143 - val_acc: 0.9350\n",
            "Epoch 4/20\n",
            "52/52 [==============================] - 1s 10ms/step - loss: 0.2091 - acc: 0.9359 - val_loss: 0.2073 - val_acc: 0.9350\n",
            "Epoch 5/20\n",
            "52/52 [==============================] - 1s 10ms/step - loss: 0.2032 - acc: 0.9361 - val_loss: 0.2048 - val_acc: 0.9350\n",
            "Epoch 6/20\n",
            "52/52 [==============================] - 1s 10ms/step - loss: 0.2047 - acc: 0.9357 - val_loss: 0.2034 - val_acc: 0.9350\n",
            "Epoch 7/20\n",
            "52/52 [==============================] - 1s 10ms/step - loss: 0.2018 - acc: 0.9351 - val_loss: 0.2024 - val_acc: 0.9350\n",
            "Epoch 8/20\n",
            "52/52 [==============================] - 1s 10ms/step - loss: 0.2003 - acc: 0.9359 - val_loss: 0.2015 - val_acc: 0.9350\n",
            "Epoch 9/20\n",
            "52/52 [==============================] - 1s 10ms/step - loss: 0.2006 - acc: 0.9357 - val_loss: 0.2006 - val_acc: 0.9350\n",
            "Epoch 10/20\n",
            "52/52 [==============================] - 1s 10ms/step - loss: 0.1986 - acc: 0.9355 - val_loss: 0.1997 - val_acc: 0.9350\n",
            "Epoch 11/20\n",
            "52/52 [==============================] - 0s 10ms/step - loss: 0.1988 - acc: 0.9356 - val_loss: 0.1989 - val_acc: 0.9350\n",
            "Epoch 12/20\n",
            "52/52 [==============================] - 0s 10ms/step - loss: 0.1997 - acc: 0.9345 - val_loss: 0.1981 - val_acc: 0.9350\n",
            "Epoch 13/20\n",
            "52/52 [==============================] - 0s 10ms/step - loss: 0.1977 - acc: 0.9362 - val_loss: 0.1972 - val_acc: 0.9350\n",
            "Epoch 14/20\n",
            "52/52 [==============================] - 1s 10ms/step - loss: 0.1941 - acc: 0.9362 - val_loss: 0.1964 - val_acc: 0.9350\n",
            "Epoch 15/20\n",
            "52/52 [==============================] - 0s 10ms/step - loss: 0.1955 - acc: 0.9361 - val_loss: 0.1956 - val_acc: 0.9442\n",
            "Epoch 16/20\n",
            "52/52 [==============================] - 0s 10ms/step - loss: 0.1929 - acc: 0.9468 - val_loss: 0.1949 - val_acc: 0.9442\n",
            "Epoch 17/20\n",
            "52/52 [==============================] - 1s 10ms/step - loss: 0.1931 - acc: 0.9462 - val_loss: 0.1942 - val_acc: 0.9442\n",
            "Epoch 18/20\n",
            "52/52 [==============================] - 1s 10ms/step - loss: 0.1904 - acc: 0.9469 - val_loss: 0.1934 - val_acc: 0.9442\n",
            "Epoch 19/20\n",
            "52/52 [==============================] - 1s 15ms/step - loss: 0.1952 - acc: 0.9456 - val_loss: 0.1928 - val_acc: 0.9464\n",
            "Epoch 20/20\n",
            "52/52 [==============================] - 1s 10ms/step - loss: 0.1883 - acc: 0.9511 - val_loss: 0.1921 - val_acc: 0.9503\n"
          ],
          "name": "stdout"
        }
      ]
    },
    {
      "cell_type": "code",
      "metadata": {
        "id": "5MF7_nuj2ZQO",
        "colab": {
          "base_uri": "https://localhost:8080/",
          "height": 590
        },
        "outputId": "3be814db-3c44-4fc1-9814-39a7f8c7d3c1"
      },
      "source": [
        "#Use plot_history function to plot the model curves for loss and accuracy\n",
        "plot_history(L_history)"
      ],
      "execution_count": 35,
      "outputs": [
        {
          "output_type": "stream",
          "text": [
            "dict_keys(['loss', 'acc', 'val_loss', 'val_acc'])\n"
          ],
          "name": "stdout"
        },
        {
          "output_type": "display_data",
          "data": {
            "image/png": "[encoded data removed]",
            "text/plain": [
              "<Figure size 432x288 with 1 Axes>"
            ]
          },
          "metadata": {
            "tags": [],
            "needs_background": "light"
          }
        },
        {
          "output_type": "display_data",
          "data": {
            "image/png": "[encoded data removed]",
            "text/plain": [
              "<Figure size 432x288 with 1 Axes>"
            ]
          },
          "metadata": {
            "tags": [],
            "needs_background": "light"
          }
        }
      ]
    },
    {
      "cell_type": "code",
      "metadata": {
        "id": "KAGWtCN-OKrG",
        "colab": {
          "base_uri": "https://localhost:8080/"
        },
        "outputId": "9c285d1a-fa2b-4938-f07f-6b82b6885f90"
      },
      "source": [
        "# Use evaluate_on_test function to note accuracy, precision, recall and F1 score on test data\n",
        "laccuracy, lprecision, lrecall, lf1 = evaluate_on_test(X_test,y_test,L_model)"
      ],
      "execution_count": 36,
      "outputs": [
        {
          "output_type": "stream",
          "text": [
            "/usr/local/lib/python3.6/dist-packages/tensorflow/python/keras/engine/sequential.py:450: UserWarning: `model.predict_classes()` is deprecated and will be removed after 2021-01-01. Please use instead:* `np.argmax(model.predict(x), axis=-1)`,   if your model does multi-class classification   (e.g. if it uses a `softmax` last-layer activation).* `(model.predict(x) > 0.5).astype(\"int32\")`,   if your model does binary classification   (e.g. if it uses a `sigmoid` last-layer activation).\n",
            "  warnings.warn('`model.predict_classes()` is deprecated and '\n"
          ],
          "name": "stderr"
        },
        {
          "output_type": "stream",
          "text": [
            "Accuracy: 0.951663\n",
            "Precision: 1.000000\n",
            "Recall: 0.262749\n",
            "F1 score: 0.416155\n"
          ],
          "name": "stdout"
        }
      ]
    },
    {
      "cell_type": "code",
      "metadata": {
        "colab": {
          "base_uri": "https://localhost:8080/",
          "height": 142
        },
        "id": "zQLzyLBH98z5",
        "outputId": "bc8fd30a-c1e0-493d-85a1-a42e130705d6"
      },
      "source": [
        "data = [[raccuracy, rprecision, rrecall, rf1], [gaccuracy, gprecision, grecall, gf1], [laccuracy, lprecision, lrecall, lf1]]\n",
        "df = pd.DataFrame(data=data, index = ['RNN', 'GRU', 'LSTM'], columns=['Accuracy', 'Precision', 'Recall', 'F1'])\n",
        "df"
      ],
      "execution_count": 37,
      "outputs": [
        {
          "output_type": "execute_result",
          "data": {
            "text/html": [
              "<div>\n",
              "<style scoped>\n",
              "    .dataframe tbody tr th:only-of-type {\n",
              "        vertical-align: middle;\n",
              "    }\n",
              "\n",
              "    .dataframe tbody tr th {\n",
              "        vertical-align: top;\n",
              "    }\n",
              "\n",
              "    .dataframe thead th {\n",
              "        text-align: right;\n",
              "    }\n",
              "</style>\n",
              "<table border=\"1\" class=\"dataframe\">\n",
              "  <thead>\n",
              "    <tr style=\"text-align: right;\">\n",
              "      <th></th>\n",
              "      <th>Accuracy</th>\n",
              "      <th>Precision</th>\n",
              "      <th>Recall</th>\n",
              "      <th>F1</th>\n",
              "    </tr>\n",
              "  </thead>\n",
              "  <tbody>\n",
              "    <tr>\n",
              "      <th>RNN</th>\n",
              "      <td>0.951663</td>\n",
              "      <td>1.0</td>\n",
              "      <td>0.262749</td>\n",
              "      <td>0.416155</td>\n",
              "    </tr>\n",
              "    <tr>\n",
              "      <th>GRU</th>\n",
              "      <td>0.947774</td>\n",
              "      <td>1.0</td>\n",
              "      <td>0.203437</td>\n",
              "      <td>0.338093</td>\n",
              "    </tr>\n",
              "    <tr>\n",
              "      <th>LSTM</th>\n",
              "      <td>0.951663</td>\n",
              "      <td>1.0</td>\n",
              "      <td>0.262749</td>\n",
              "      <td>0.416155</td>\n",
              "    </tr>\n",
              "  </tbody>\n",
              "</table>\n",
              "</div>"
            ],
            "text/plain": [
              "      Accuracy  Precision    Recall        F1\n",
              "RNN   0.951663        1.0  0.262749  0.416155\n",
              "GRU   0.947774        1.0  0.203437  0.338093\n",
              "LSTM  0.951663        1.0  0.262749  0.416155"
            ]
          },
          "metadata": {
            "tags": []
          },
          "execution_count": 37
        }
      ]
    },
    {
      "cell_type": "markdown",
      "metadata": {
        "id": "4nf9aSqW4ctV"
      },
      "source": [
        "# Task 3: Create sequence data upto size 300. Apply 70/30 split for train-test data.\r\n",
        "# Next, fit ONLY the best data model (pick ONE between simple RNN /GRU/ LSTM reported in Task 2) on this data.\r\n"
      ]
    },
    {
      "cell_type": "code",
      "metadata": {
        "id": "oSTGbc7BP6gB"
      },
      "source": [
        "#Step 1: Create sequence upto 300\r\n",
        "short_sequence_300 = sequence[sequence['event'].map(len) <= 300]\r\n",
        "event_sequence_300 = short_sequence_300['event'].to_list()\r\n",
        "event_300 = pad_sequences(event_sequence_300)"
      ],
      "execution_count": 38,
      "outputs": []
    },
    {
      "cell_type": "code",
      "metadata": {
        "id": "O7w-kY3Ndas4",
        "colab": {
          "base_uri": "https://localhost:8080/"
        },
        "outputId": "5bc3d64b-622b-49e6-c906-b5c67af49f76"
      },
      "source": [
        "# One Hot Encoding the Purchase label\r\n",
        "y_300 = np.array(pd.get_dummies(short_sequence_300['purchase'],prefix='Purchase'))\r\n",
        "\r\n",
        "X_train_300, X_test_300, y_train_300, y_test_300=prepare_train_test_data(np.array(event_300),y_300) \r\n",
        "# Function call to 'prepare_train_test_data' to create 70/30 split data\r\n",
        "print(X_train_300.shape, y_train_300.shape)"
      ],
      "execution_count": 39,
      "outputs": [
        {
          "output_type": "stream",
          "text": [
            "(83594, 1, 300) (83594, 2)\n"
          ],
          "name": "stdout"
        }
      ]
    },
    {
      "cell_type": "code",
      "metadata": {
        "id": "VgB3ISRAP6s2"
      },
      "source": [
        "# Initialize your best model (RNN or GRU or LSTM)\n",
        "model_300 = simple_RNN_model(neurons=100, op=300)"
      ],
      "execution_count": 40,
      "outputs": []
    },
    {
      "cell_type": "code",
      "metadata": {
        "id": "k8xqdlNaSC7U",
        "colab": {
          "base_uri": "https://localhost:8080/"
        },
        "outputId": "25753d05-0858-4cda-da4f-ee29f1d8529f"
      },
      "source": [
        "#Fit your model on Training data (20 epochs, 1000 samples per batch, validation_split=0.2)\n",
        "model_300_history = model_300.fit(X_train_300, y_train_300,\n",
        "                    epochs=20,\n",
        "                    batch_size=1000,#atleast 1000 records per epoch\n",
        "                    validation_split=0.2)"
      ],
      "execution_count": 41,
      "outputs": [
        {
          "output_type": "stream",
          "text": [
            "Epoch 1/20\n",
            "67/67 [==============================] - 2s 11ms/step - loss: 0.4146 - acc: 0.8902 - val_loss: 0.2817 - val_acc: 0.9041\n",
            "Epoch 2/20\n",
            "67/67 [==============================] - 0s 6ms/step - loss: 0.2676 - acc: 0.9090 - val_loss: 0.2790 - val_acc: 0.9041\n",
            "Epoch 3/20\n",
            "67/67 [==============================] - 0s 7ms/step - loss: 0.2668 - acc: 0.9083 - val_loss: 0.2769 - val_acc: 0.9041\n",
            "Epoch 4/20\n",
            "67/67 [==============================] - 0s 7ms/step - loss: 0.2673 - acc: 0.9073 - val_loss: 0.2759 - val_acc: 0.9041\n",
            "Epoch 5/20\n",
            "67/67 [==============================] - 0s 7ms/step - loss: 0.2613 - acc: 0.9110 - val_loss: 0.2744 - val_acc: 0.9117\n",
            "Epoch 6/20\n",
            "67/67 [==============================] - 0s 7ms/step - loss: 0.2676 - acc: 0.9136 - val_loss: 0.2726 - val_acc: 0.9117\n",
            "Epoch 7/20\n",
            "67/67 [==============================] - 0s 7ms/step - loss: 0.2614 - acc: 0.9156 - val_loss: 0.2710 - val_acc: 0.9116\n",
            "Epoch 8/20\n",
            "67/67 [==============================] - 0s 7ms/step - loss: 0.2559 - acc: 0.9174 - val_loss: 0.2706 - val_acc: 0.9116\n",
            "Epoch 9/20\n",
            "67/67 [==============================] - 0s 7ms/step - loss: 0.2559 - acc: 0.9182 - val_loss: 0.2693 - val_acc: 0.9133\n",
            "Epoch 10/20\n",
            "67/67 [==============================] - 0s 7ms/step - loss: 0.2511 - acc: 0.9209 - val_loss: 0.2676 - val_acc: 0.9154\n",
            "Epoch 11/20\n",
            "67/67 [==============================] - 0s 7ms/step - loss: 0.2544 - acc: 0.9206 - val_loss: 0.2676 - val_acc: 0.9153\n",
            "Epoch 12/20\n",
            "67/67 [==============================] - 1s 8ms/step - loss: 0.2547 - acc: 0.9192 - val_loss: 0.2659 - val_acc: 0.9152\n",
            "Epoch 13/20\n",
            "67/67 [==============================] - 0s 7ms/step - loss: 0.2519 - acc: 0.9211 - val_loss: 0.2650 - val_acc: 0.9153\n",
            "Epoch 14/20\n",
            "67/67 [==============================] - 0s 7ms/step - loss: 0.2475 - acc: 0.9224 - val_loss: 0.2642 - val_acc: 0.9154\n",
            "Epoch 15/20\n",
            "67/67 [==============================] - 0s 7ms/step - loss: 0.2489 - acc: 0.9217 - val_loss: 0.2645 - val_acc: 0.9153\n",
            "Epoch 16/20\n",
            "67/67 [==============================] - 1s 8ms/step - loss: 0.2455 - acc: 0.9218 - val_loss: 0.2639 - val_acc: 0.9152\n",
            "Epoch 17/20\n",
            "67/67 [==============================] - 0s 7ms/step - loss: 0.2504 - acc: 0.9192 - val_loss: 0.2631 - val_acc: 0.9154\n",
            "Epoch 18/20\n",
            "67/67 [==============================] - 1s 8ms/step - loss: 0.2423 - acc: 0.9232 - val_loss: 0.2622 - val_acc: 0.9152\n",
            "Epoch 19/20\n",
            "67/67 [==============================] - 0s 7ms/step - loss: 0.2425 - acc: 0.9236 - val_loss: 0.2617 - val_acc: 0.9151\n",
            "Epoch 20/20\n",
            "67/67 [==============================] - 0s 7ms/step - loss: 0.2444 - acc: 0.9220 - val_loss: 0.2617 - val_acc: 0.9151\n"
          ],
          "name": "stdout"
        }
      ]
    },
    {
      "cell_type": "code",
      "metadata": {
        "id": "o29x00P0I0gq",
        "colab": {
          "base_uri": "https://localhost:8080/",
          "height": 590
        },
        "outputId": "667391bf-8356-4e27-9a3e-38a7e0a660ba"
      },
      "source": [
        "#Use plot_history function to plot the model curves for loss and accuracy\n",
        "plot_history(model_300_history)"
      ],
      "execution_count": 42,
      "outputs": [
        {
          "output_type": "stream",
          "text": [
            "dict_keys(['loss', 'acc', 'val_loss', 'val_acc'])\n"
          ],
          "name": "stdout"
        },
        {
          "output_type": "display_data",
          "data": {
            "image/png": "[encoded data removed]",
            "text/plain": [
              "<Figure size 432x288 with 1 Axes>"
            ]
          },
          "metadata": {
            "tags": [],
            "needs_background": "light"
          }
        },
        {
          "output_type": "display_data",
          "data": {
            "image/png": "[encoded data removed]",
            "text/plain": [
              "<Figure size 432x288 with 1 Axes>"
            ]
          },
          "metadata": {
            "tags": [],
            "needs_background": "light"
          }
        }
      ]
    },
    {
      "cell_type": "code",
      "metadata": {
        "id": "AQA-jjzrI8_6",
        "colab": {
          "base_uri": "https://localhost:8080/"
        },
        "outputId": "81ba0adb-9d32-4c77-a3ab-d9b29ed5db01"
      },
      "source": [
        "# Use evaluate_on_test function to note accuracy, precision, recall and F1 score on test data\n",
        "m3_accuracy, m3_precision, m3_recall, m3_f1 = evaluate_on_test(X_test_300,y_test_300,model_300)"
      ],
      "execution_count": 43,
      "outputs": [
        {
          "output_type": "stream",
          "text": [
            "/usr/local/lib/python3.6/dist-packages/tensorflow/python/keras/engine/sequential.py:450: UserWarning: `model.predict_classes()` is deprecated and will be removed after 2021-01-01. Please use instead:* `np.argmax(model.predict(x), axis=-1)`,   if your model does multi-class classification   (e.g. if it uses a `softmax` last-layer activation).* `(model.predict(x) > 0.5).astype(\"int32\")`,   if your model does binary classification   (e.g. if it uses a `sigmoid` last-layer activation).\n",
            "  warnings.warn('`model.predict_classes()` is deprecated and '\n"
          ],
          "name": "stderr"
        },
        {
          "output_type": "stream",
          "text": [
            "Accuracy: 0.915090\n",
            "Precision: 0.925000\n",
            "Recall: 0.128696\n",
            "F1 score: 0.225954\n"
          ],
          "name": "stdout"
        }
      ]
    },
    {
      "cell_type": "markdown",
      "metadata": {
        "id": "2_5HNGfkP7I6"
      },
      "source": [
        "# Task 4: Finally apply feature-based classification on the session-feature level data (Session_features.pkl).\r\n",
        "\r\n",
        "Apply your best model so far on 70/30 split data for session-feature level data and report your outcome!"
      ]
    },
    {
      "cell_type": "code",
      "metadata": {
        "id": "QQHFIkXGI6zs",
        "colab": {
          "base_uri": "https://localhost:8080/"
        },
        "outputId": "35c8ba24-50eb-4e05-d234-d2c97e4f011a"
      },
      "source": [
        "#data=feat, conrains X and Y(last column)\r\n",
        "Xf=feat.iloc[:,0:34]\r\n",
        "Yf=feat.iloc[:,35]\r\n",
        "#########################START CODE HERE##########################\r\n",
        "Xf_train, Xf_test, yf_train, yf_test= prepare_train_test_data(np.array(Xf),np.array(Yf)) # Function call to 'prepare_train_test_data' to create 70/30 split data\r\n",
        "print(Xf_train.shape, yf_train.shape)"
      ],
      "execution_count": 44,
      "outputs": [
        {
          "output_type": "stream",
          "text": [
            "(1050000, 1, 34) (1050000,)\n"
          ],
          "name": "stdout"
        }
      ]
    },
    {
      "cell_type": "code",
      "metadata": {
        "id": "GuxjWsu8QPhi"
      },
      "source": [
        "#Initialize ANY model (RNN or GRU or LSTM)\n",
        "def simple_RNN_model_1(neurons=40, op=10):\n",
        "    model = Sequential()\n",
        "    model.add(SimpleRNN(neurons, return_sequences = True, input_shape = (1,op)))\n",
        "    model.add(SimpleRNN(2*neurons))\n",
        "    model.add(Dense(units=1,activation='sigmoid'))\n",
        "    model.compile(\n",
        "      optimizer=tf.optimizers.Adam(learning_rate=0.0003),\n",
        "      loss=tf.keras.losses.mean_squared_error,\n",
        "      metrics=['acc'])\n",
        "    return model\n",
        "\n"
      ],
      "execution_count": 45,
      "outputs": []
    },
    {
      "cell_type": "code",
      "metadata": {
        "id": "EPxdJiyzOiUl"
      },
      "source": [
        "model_fb = simple_RNN_model_1(neurons=100, op=34)"
      ],
      "execution_count": 54,
      "outputs": []
    },
    {
      "cell_type": "code",
      "metadata": {
        "id": "zwukFzm5yYcj",
        "colab": {
          "base_uri": "https://localhost:8080/"
        },
        "outputId": "cac5df44-cfa4-4014-cb67-bc65aa10cc69"
      },
      "source": [
        "#Fit your model on Training data (20 epochs, 1000 samples per batch, validation_split=0.2)\n",
        "model_fb_history = model_fb.fit(Xf_train, yf_train,\n",
        "                    epochs=20,\n",
        "                    batch_size=1000,#atleast 1000 records per epoch\n",
        "                    validation_split=0.2)"
      ],
      "execution_count": 55,
      "outputs": [
        {
          "output_type": "stream",
          "text": [
            "Epoch 1/20\n",
            "840/840 [==============================] - 4s 4ms/step - loss: 0.0603 - acc: 0.9145 - val_loss: 0.0446 - val_acc: 0.9352\n",
            "Epoch 2/20\n",
            "840/840 [==============================] - 3s 4ms/step - loss: 0.0444 - acc: 0.9353 - val_loss: 0.0430 - val_acc: 0.9389\n",
            "Epoch 3/20\n",
            "840/840 [==============================] - 3s 4ms/step - loss: 0.0415 - acc: 0.9393 - val_loss: 0.0383 - val_acc: 0.9435\n",
            "Epoch 4/20\n",
            "840/840 [==============================] - 3s 4ms/step - loss: 0.0388 - acc: 0.9431 - val_loss: 0.0345 - val_acc: 0.9500\n",
            "Epoch 5/20\n",
            "840/840 [==============================] - 3s 4ms/step - loss: 0.0350 - acc: 0.9499 - val_loss: 0.0323 - val_acc: 0.9537\n",
            "Epoch 6/20\n",
            "840/840 [==============================] - 3s 4ms/step - loss: 0.0325 - acc: 0.9537 - val_loss: 0.0399 - val_acc: 0.9455\n",
            "Epoch 7/20\n",
            "840/840 [==============================] - 3s 4ms/step - loss: 0.0322 - acc: 0.9544 - val_loss: 0.0315 - val_acc: 0.9560\n",
            "Epoch 8/20\n",
            "840/840 [==============================] - 3s 4ms/step - loss: 0.0334 - acc: 0.9538 - val_loss: 0.0272 - val_acc: 0.9616\n",
            "Epoch 9/20\n",
            "840/840 [==============================] - 3s 4ms/step - loss: 0.0278 - acc: 0.9613 - val_loss: 0.0265 - val_acc: 0.9639\n",
            "Epoch 10/20\n",
            "840/840 [==============================] - 3s 4ms/step - loss: 0.0261 - acc: 0.9637 - val_loss: 0.0327 - val_acc: 0.9572\n",
            "Epoch 11/20\n",
            "840/840 [==============================] - 3s 4ms/step - loss: 0.0270 - acc: 0.9629 - val_loss: 0.0290 - val_acc: 0.9607\n",
            "Epoch 12/20\n",
            "840/840 [==============================] - 3s 4ms/step - loss: 0.0263 - acc: 0.9635 - val_loss: 0.0222 - val_acc: 0.9691\n",
            "Epoch 13/20\n",
            "840/840 [==============================] - 3s 4ms/step - loss: 0.0268 - acc: 0.9637 - val_loss: 0.0231 - val_acc: 0.9678\n",
            "Epoch 14/20\n",
            "840/840 [==============================] - 3s 4ms/step - loss: 0.0228 - acc: 0.9682 - val_loss: 0.0215 - val_acc: 0.9698\n",
            "Epoch 15/20\n",
            "840/840 [==============================] - 3s 4ms/step - loss: 0.0212 - acc: 0.9701 - val_loss: 0.0181 - val_acc: 0.9745\n",
            "Epoch 16/20\n",
            "840/840 [==============================] - 3s 4ms/step - loss: 0.0189 - acc: 0.9736 - val_loss: 0.0181 - val_acc: 0.9728\n",
            "Epoch 17/20\n",
            "840/840 [==============================] - 3s 4ms/step - loss: 0.0179 - acc: 0.9748 - val_loss: 0.0205 - val_acc: 0.9724\n",
            "Epoch 18/20\n",
            "840/840 [==============================] - 3s 4ms/step - loss: 0.0165 - acc: 0.9767 - val_loss: 0.0145 - val_acc: 0.9789\n",
            "Epoch 19/20\n",
            "840/840 [==============================] - 3s 4ms/step - loss: 0.0177 - acc: 0.9754 - val_loss: 0.0141 - val_acc: 0.9796\n",
            "Epoch 20/20\n",
            "840/840 [==============================] - 3s 4ms/step - loss: 0.0150 - acc: 0.9780 - val_loss: 0.0154 - val_acc: 0.9777\n"
          ],
          "name": "stdout"
        }
      ]
    },
    {
      "cell_type": "code",
      "metadata": {
        "id": "ILXRxuM_ymWm",
        "colab": {
          "base_uri": "https://localhost:8080/",
          "height": 590
        },
        "outputId": "84e6ddd0-ce08-4219-a9c5-fc3dee4be031"
      },
      "source": [
        "#Use plot_history function to plot the model curves for loss and accuracy\n",
        "plot_history(model_fb_history)"
      ],
      "execution_count": 56,
      "outputs": [
        {
          "output_type": "stream",
          "text": [
            "dict_keys(['loss', 'acc', 'val_loss', 'val_acc'])\n"
          ],
          "name": "stdout"
        },
        {
          "output_type": "display_data",
          "data": {
            "image/png": "[encoded data removed]",
            "text/plain": [
              "<Figure size 432x288 with 1 Axes>"
            ]
          },
          "metadata": {
            "tags": [],
            "needs_background": "light"
          }
        },
        {
          "output_type": "display_data",
          "data": {
            "image/png": "[encoded data removed]",
            "text/plain": [
              "<Figure size 432x288 with 1 Axes>"
            ]
          },
          "metadata": {
            "tags": [],
            "needs_background": "light"
          }
        }
      ]
    },
    {
      "cell_type": "code",
      "metadata": {
        "id": "thFPlvgEKaiL"
      },
      "source": [
        "def evaluate_on_test_1(X_test, y_test, training_model):\n",
        "  #This function will evaluate the fit model on test data\n",
        "  g_preds=training_model.predict_classes(X_test)\n",
        "  gaccuracy = accuracy_score(y_test, g_preds)\n",
        "  print('Accuracy: %f' % gaccuracy)\n",
        "  # precision tp / (tp + fp)\n",
        "  gprecision = precision_score(y_test, g_preds)\n",
        "  print('Precision: %f' % gprecision)\n",
        "  # recall: tp / (tp + fn)\n",
        "  grecall = recall_score(y_test, g_preds)\n",
        "  print('Recall: %f' % grecall)\n",
        "  # f1: 2 tp / (2 tp + fp + fn)\n",
        "  gf1 = f1_score(y_test, g_preds)\n",
        "  print('F1 score: %f' % gf1)\n",
        "  return gaccuracy, gprecision, grecall, gf1"
      ],
      "execution_count": 49,
      "outputs": []
    },
    {
      "cell_type": "code",
      "metadata": {
        "id": "3BhRFSlcyqhT",
        "colab": {
          "base_uri": "https://localhost:8080/"
        },
        "outputId": "67d33252-a91e-40eb-c271-a34f1479605c"
      },
      "source": [
        "# Use evaluate_on_test function to note accuracy, precision, recall and F1 score on test data\n",
        "f_accuracy, f_precision, f_recall, f_f1 = evaluate_on_test_1(Xf_test,yf_test,model_fb)"
      ],
      "execution_count": 57,
      "outputs": [
        {
          "output_type": "stream",
          "text": [
            "/usr/local/lib/python3.6/dist-packages/tensorflow/python/keras/engine/sequential.py:450: UserWarning: `model.predict_classes()` is deprecated and will be removed after 2021-01-01. Please use instead:* `np.argmax(model.predict(x), axis=-1)`,   if your model does multi-class classification   (e.g. if it uses a `softmax` last-layer activation).* `(model.predict(x) > 0.5).astype(\"int32\")`,   if your model does binary classification   (e.g. if it uses a `sigmoid` last-layer activation).\n",
            "  warnings.warn('`model.predict_classes()` is deprecated and '\n"
          ],
          "name": "stderr"
        },
        {
          "output_type": "stream",
          "text": [
            "Accuracy: 0.977738\n",
            "Precision: 0.951276\n",
            "Recall: 0.714047\n",
            "F1 score: 0.815764\n"
          ],
          "name": "stdout"
        }
      ]
    },
    {
      "cell_type": "markdown",
      "metadata": {
        "id": "ocx8Ydrey0-W"
      },
      "source": [
        "#Comment on what you would suggest to your manager?\r\n",
        "\r\n",
        "\r\n",
        "*  Is feature-level data necessary? What metrics suggest that?\r\n",
        "*  Is sequence-level data sufficient? What sequence size would you suggest?\r\n",
        "\r\n"
      ]
    },
    {
      "cell_type": "markdown",
      "metadata": {
        "id": "xvJ84iI7NBpS"
      },
      "source": [
        "Feature-level data performs much better, with an F1 score of >0.80, as opposed to <0.25"
      ]
    }
  ]
}