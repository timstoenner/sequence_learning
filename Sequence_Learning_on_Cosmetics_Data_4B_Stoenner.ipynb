{
  "nbformat": 4,
  "nbformat_minor": 0,
  "metadata": {
    "kernelspec": {
      "display_name": "Python 3",
      "language": "python",
      "name": "python3"
    },
    "language_info": {
      "codemirror_mode": {
        "name": "ipython",
        "version": 3
      },
      "file_extension": ".py",
      "mimetype": "text/x-python",
      "name": "python",
      "nbconvert_exporter": "python",
      "pygments_lexer": "ipython3",
      "version": "3.7.7"
    },
    "colab": {
      "name": "Sequence_Learning_on_Cosmetics_Data_4B_v1.ipynb",
      "provenance": [],
      "collapsed_sections": [],
      "machine_shape": "hm",
      "include_colab_link": true
    },
    "accelerator": "GPU"
  },
  "cells": [
    {
      "cell_type": "markdown",
      "metadata": {
        "id": "view-in-github",
        "colab_type": "text"
      },
      "source": [
        "<a href=\"https://colab.research.google.com/github/timstoenner/sequence_learning/blob/main/Sequence_Learning_on_Cosmetics_Data_4B_Stoenner.ipynb\" target=\"_parent\"><img src=\"https://colab.research.google.com/assets/colab-badge.svg\" alt=\"Open In Colab\"/></a>"
      ]
    },
    {
      "cell_type": "markdown",
      "metadata": {
        "id": "tyN5gj274OgN"
      },
      "source": [
        "# Today you are MLE at the Personalization Department in Macy's cosmetics!\r\n",
        "Your goal is to predict outcomes of online browsing sessions through session-level-features or sequence of page visits to predict if teh next sequence of events/session outcome will be a purchase or not. Working off session level data is definitely more erroneous than on a journey level, but it provides the opportunity to initiate nudge models/coupons to help personalize at each session level.\r\n",
        "\r\n",
        "Models used in this assignment are similar to https://github.com/guillaume-chevalier/seq2seq-signal-prediction/blob/master/seq2seq.ipynb\r\n",
        "\r\n",
        "## You have two major tasks today:\r\n",
        "\r\n",
        "\r\n",
        "1.   To process raw session level data to generate sequence data/sequence models.\r\n",
        "2.   Compare performance of sequence models with session-feature level models.\r\n",
        "\r\n",
        "## Your manager needs your help to answer the following question: \r\n",
        "Which is the better strategy for session level predictions that lead to presonalization: page visit sequences (less complexity for data pre-process) or session-level features (more data heavy process)?\r\n",
        "\r\n"
      ]
    },
    {
      "cell_type": "markdown",
      "metadata": {
        "id": "G72VpQoe9qyi"
      },
      "source": [
        "# Task 0: Getting familiar with the Data!"
      ]
    },
    {
      "cell_type": "code",
      "metadata": {
        "colab": {
          "base_uri": "https://localhost:8080/"
        },
        "id": "qLLIlcrdvmw1",
        "outputId": "c3409ed9-7aab-410f-b899-6b9aaaced23f"
      },
      "source": [
        "#Mount the RAW session level data: shopping.pkl\r\n",
        "from google.colab import drive\r\n",
        "drive.mount('/content/drive')"
      ],
      "execution_count": 1,
      "outputs": [
        {
          "output_type": "stream",
          "text": [
            "Drive already mounted at /content/drive; to attempt to forcibly remount, call drive.mount(\"/content/drive\", force_remount=True).\n"
          ],
          "name": "stdout"
        }
      ]
    },
    {
      "cell_type": "code",
      "metadata": {
        "colab": {
          "base_uri": "https://localhost:8080/"
        },
        "id": "suaLXdkkwBzy",
        "outputId": "0e8db081-44f4-4b2e-ac34-03fee8fda8e8"
      },
      "source": [
        "import os\r\n",
        "# The path below should point to the directory containing this notebook and the associated utility files\r\n",
        "# Change it if necessary\r\n",
        "os.chdir('/content/drive/MyDrive/FourthBrain/FourthBrain/Week_10/Sequence_Models')\r\n",
        "!ls"
      ],
      "execution_count": 2,
      "outputs": [
        {
          "output_type": "stream",
          "text": [
            "Session_features.pkl  shopping.pkl\n"
          ],
          "name": "stdout"
        }
      ]
    },
    {
      "cell_type": "code",
      "metadata": {
        "id": "Qbh2P_qs9i1_"
      },
      "source": [
        "# Import all libraries\r\n",
        "import numpy as np\r\n",
        "import pandas as pd\r\n",
        "from sklearn.preprocessing import OneHotEncoder\r\n",
        "from keras.models import Sequential\r\n",
        "from keras.layers import Dense\r\n",
        "from keras.layers import LSTM\r\n",
        "from keras.layers import Flatten\r\n",
        "from sklearn.preprocessing import MinMaxScaler\r\n",
        "from sklearn.metrics import mean_squared_error\r\n",
        "from matplotlib import pyplot\r\n",
        "from keras.layers import Bidirectional\r\n",
        "from keras.layers import TimeDistributed"
      ],
      "execution_count": 3,
      "outputs": []
    },
    {
      "cell_type": "code",
      "metadata": {
        "id": "S5UdJL8sP6fz",
        "colab": {
          "base_uri": "https://localhost:8080/",
          "height": 221
        },
        "outputId": "78b44d79-bd4d-41f0-bdf5-0c7c992aefb4"
      },
      "source": [
        "#Read and look at the RAW data\r\n",
        "data = pd.read_pickle('shopping.pkl')\r\n",
        "print('Shape of data=', data.shape)\r\n",
        "data.head()"
      ],
      "execution_count": 4,
      "outputs": [
        {
          "output_type": "stream",
          "text": [
            "Shape of data= (1500000, 12)\n"
          ],
          "name": "stdout"
        },
        {
          "output_type": "execute_result",
          "data": {
            "text/html": [
              "<div>\n",
              "<style scoped>\n",
              "    .dataframe tbody tr th:only-of-type {\n",
              "        vertical-align: middle;\n",
              "    }\n",
              "\n",
              "    .dataframe tbody tr th {\n",
              "        vertical-align: top;\n",
              "    }\n",
              "\n",
              "    .dataframe thead th {\n",
              "        text-align: right;\n",
              "    }\n",
              "</style>\n",
              "<table border=\"1\" class=\"dataframe\">\n",
              "  <thead>\n",
              "    <tr style=\"text-align: right;\">\n",
              "      <th></th>\n",
              "      <th>event_time</th>\n",
              "      <th>event_type</th>\n",
              "      <th>product_id</th>\n",
              "      <th>category_id</th>\n",
              "      <th>brand</th>\n",
              "      <th>price</th>\n",
              "      <th>user_id</th>\n",
              "      <th>user_session</th>\n",
              "      <th>year</th>\n",
              "      <th>month</th>\n",
              "      <th>weekday</th>\n",
              "      <th>hour</th>\n",
              "    </tr>\n",
              "  </thead>\n",
              "  <tbody>\n",
              "    <tr>\n",
              "      <th>0</th>\n",
              "      <td>2019-12-01 00:00:00</td>\n",
              "      <td>remove_from_cart</td>\n",
              "      <td>5712790</td>\n",
              "      <td>1487580005268456287</td>\n",
              "      <td>f.o.x</td>\n",
              "      <td>6.27</td>\n",
              "      <td>576802932</td>\n",
              "      <td>51d85cb0-897f-48d2-918b-ad63965c12dc</td>\n",
              "      <td>2019</td>\n",
              "      <td>12</td>\n",
              "      <td>Sunday</td>\n",
              "      <td>0</td>\n",
              "    </tr>\n",
              "    <tr>\n",
              "      <th>1</th>\n",
              "      <td>2019-12-01 00:00:00</td>\n",
              "      <td>view</td>\n",
              "      <td>5764655</td>\n",
              "      <td>1487580005411062629</td>\n",
              "      <td>cnd</td>\n",
              "      <td>29.05</td>\n",
              "      <td>412120092</td>\n",
              "      <td>8adff31e-2051-4894-9758-224bfa8aec18</td>\n",
              "      <td>2019</td>\n",
              "      <td>12</td>\n",
              "      <td>Sunday</td>\n",
              "      <td>0</td>\n",
              "    </tr>\n",
              "    <tr>\n",
              "      <th>2</th>\n",
              "      <td>2019-12-01 00:00:02</td>\n",
              "      <td>cart</td>\n",
              "      <td>4958</td>\n",
              "      <td>1487580009471148064</td>\n",
              "      <td>runail</td>\n",
              "      <td>1.19</td>\n",
              "      <td>494077766</td>\n",
              "      <td>c99a50e8-2fac-4c4d-89ec-41c05f114554</td>\n",
              "      <td>2019</td>\n",
              "      <td>12</td>\n",
              "      <td>Sunday</td>\n",
              "      <td>0</td>\n",
              "    </tr>\n",
              "    <tr>\n",
              "      <th>3</th>\n",
              "      <td>2019-12-01 00:00:05</td>\n",
              "      <td>view</td>\n",
              "      <td>5848413</td>\n",
              "      <td>1487580007675986893</td>\n",
              "      <td>freedecor</td>\n",
              "      <td>0.79</td>\n",
              "      <td>348405118</td>\n",
              "      <td>722ffea5-73c0-4924-8e8f-371ff8031af4</td>\n",
              "      <td>2019</td>\n",
              "      <td>12</td>\n",
              "      <td>Sunday</td>\n",
              "      <td>0</td>\n",
              "    </tr>\n",
              "    <tr>\n",
              "      <th>4</th>\n",
              "      <td>2019-12-01 00:00:07</td>\n",
              "      <td>view</td>\n",
              "      <td>5824148</td>\n",
              "      <td>1487580005511725929</td>\n",
              "      <td>nan</td>\n",
              "      <td>5.56</td>\n",
              "      <td>576005683</td>\n",
              "      <td>28172809-7e4a-45ce-bab0-5efa90117cd5</td>\n",
              "      <td>2019</td>\n",
              "      <td>12</td>\n",
              "      <td>Sunday</td>\n",
              "      <td>0</td>\n",
              "    </tr>\n",
              "  </tbody>\n",
              "</table>\n",
              "</div>"
            ],
            "text/plain": [
              "           event_time        event_type  product_id  ...  month weekday  hour\n",
              "0 2019-12-01 00:00:00  remove_from_cart     5712790  ...     12  Sunday     0\n",
              "1 2019-12-01 00:00:00              view     5764655  ...     12  Sunday     0\n",
              "2 2019-12-01 00:00:02              cart        4958  ...     12  Sunday     0\n",
              "3 2019-12-01 00:00:05              view     5848413  ...     12  Sunday     0\n",
              "4 2019-12-01 00:00:07              view     5824148  ...     12  Sunday     0\n",
              "\n",
              "[5 rows x 12 columns]"
            ]
          },
          "metadata": {
            "tags": []
          },
          "execution_count": 4
        }
      ]
    },
    {
      "cell_type": "markdown",
      "metadata": {
        "id": "xGvjhdUnu2SB"
      },
      "source": [
        "So for each unique user_session ID, the data fields that are collected are (product ID, category ID, brand, price, user ID, year, month, weekday, hour and the event (view, cart, remove, purchase). Each event is time tagged!"
      ]
    },
    {
      "cell_type": "code",
      "metadata": {
        "colab": {
          "base_uri": "https://localhost:8080/",
          "height": 241
        },
        "id": "Ku0_TrjDuDhu",
        "outputId": "959363cd-3646-4969-dc36-e9759c3a4efb"
      },
      "source": [
        "#Next lets look at the feature-level session data\r\n",
        "feat = pd.read_pickle('Session_features.pkl')\r\n",
        "print('Shape of data=', feat.shape)\r\n",
        "feat.head()"
      ],
      "execution_count": 5,
      "outputs": [
        {
          "output_type": "stream",
          "text": [
            "Shape of data= (1500000, 36)\n"
          ],
          "name": "stdout"
        },
        {
          "output_type": "execute_result",
          "data": {
            "text/html": [
              "<div>\n",
              "<style scoped>\n",
              "    .dataframe tbody tr th:only-of-type {\n",
              "        vertical-align: middle;\n",
              "    }\n",
              "\n",
              "    .dataframe tbody tr th {\n",
              "        vertical-align: top;\n",
              "    }\n",
              "\n",
              "    .dataframe thead th {\n",
              "        text-align: right;\n",
              "    }\n",
              "</style>\n",
              "<table border=\"1\" class=\"dataframe\">\n",
              "  <thead>\n",
              "    <tr style=\"text-align: right;\">\n",
              "      <th></th>\n",
              "      <th>TotalEventsInSession</th>\n",
              "      <th>interactionTime</th>\n",
              "      <th>#TimesCartedinSession</th>\n",
              "      <th>#TimesViewedinSession</th>\n",
              "      <th>maxPrice</th>\n",
              "      <th>minPrice</th>\n",
              "      <th>AvgAmtCartedInSession</th>\n",
              "      <th>AvgAmtViewedInSession</th>\n",
              "      <th>#BrandsCartedInSession</th>\n",
              "      <th>#BrandsViewedInSession</th>\n",
              "      <th>#CategoriesCartedInSession</th>\n",
              "      <th>#CategoriesViewedInSession</th>\n",
              "      <th>OverallAmtUserCarted</th>\n",
              "      <th>OverallAmtUserViewed</th>\n",
              "      <th>#ProdsCartedInSession</th>\n",
              "      <th>#ProdsViewedInSession</th>\n",
              "      <th>Fr</th>\n",
              "      <th>Mon</th>\n",
              "      <th>Sat</th>\n",
              "      <th>Sun</th>\n",
              "      <th>Thu</th>\n",
              "      <th>Tue</th>\n",
              "      <th>Wed</th>\n",
              "      <th>2019</th>\n",
              "      <th>Nov</th>\n",
              "      <th>Oct</th>\n",
              "      <th>Sep</th>\n",
              "      <th>Afternoon</th>\n",
              "      <th>Dawn</th>\n",
              "      <th>EarlyMorning</th>\n",
              "      <th>Evening</th>\n",
              "      <th>Morning</th>\n",
              "      <th>Night</th>\n",
              "      <th>Noon</th>\n",
              "      <th>Weekend</th>\n",
              "      <th>Purchase</th>\n",
              "    </tr>\n",
              "  </thead>\n",
              "  <tbody>\n",
              "    <tr>\n",
              "      <th>0</th>\n",
              "      <td>7</td>\n",
              "      <td>493.0</td>\n",
              "      <td>0</td>\n",
              "      <td>7</td>\n",
              "      <td>1349.46</td>\n",
              "      <td>131.53</td>\n",
              "      <td>0.00</td>\n",
              "      <td>812.941429</td>\n",
              "      <td>0</td>\n",
              "      <td>7</td>\n",
              "      <td>0</td>\n",
              "      <td>7</td>\n",
              "      <td>145.095000</td>\n",
              "      <td>187.166429</td>\n",
              "      <td>0</td>\n",
              "      <td>7</td>\n",
              "      <td>0</td>\n",
              "      <td>0</td>\n",
              "      <td>0</td>\n",
              "      <td>0</td>\n",
              "      <td>1</td>\n",
              "      <td>0</td>\n",
              "      <td>0</td>\n",
              "      <td>1</td>\n",
              "      <td>0</td>\n",
              "      <td>1</td>\n",
              "      <td>0</td>\n",
              "      <td>0</td>\n",
              "      <td>1</td>\n",
              "      <td>0</td>\n",
              "      <td>0</td>\n",
              "      <td>0</td>\n",
              "      <td>0</td>\n",
              "      <td>0</td>\n",
              "      <td>0</td>\n",
              "      <td>0</td>\n",
              "    </tr>\n",
              "    <tr>\n",
              "      <th>1</th>\n",
              "      <td>18</td>\n",
              "      <td>585.0</td>\n",
              "      <td>1</td>\n",
              "      <td>16</td>\n",
              "      <td>1747.79</td>\n",
              "      <td>152.58</td>\n",
              "      <td>289.52</td>\n",
              "      <td>621.671250</td>\n",
              "      <td>1</td>\n",
              "      <td>16</td>\n",
              "      <td>1</td>\n",
              "      <td>16</td>\n",
              "      <td>461.202273</td>\n",
              "      <td>653.235432</td>\n",
              "      <td>1</td>\n",
              "      <td>16</td>\n",
              "      <td>0</td>\n",
              "      <td>0</td>\n",
              "      <td>0</td>\n",
              "      <td>1</td>\n",
              "      <td>0</td>\n",
              "      <td>0</td>\n",
              "      <td>0</td>\n",
              "      <td>1</td>\n",
              "      <td>0</td>\n",
              "      <td>1</td>\n",
              "      <td>0</td>\n",
              "      <td>0</td>\n",
              "      <td>0</td>\n",
              "      <td>1</td>\n",
              "      <td>0</td>\n",
              "      <td>0</td>\n",
              "      <td>0</td>\n",
              "      <td>0</td>\n",
              "      <td>0</td>\n",
              "      <td>1</td>\n",
              "    </tr>\n",
              "    <tr>\n",
              "      <th>2</th>\n",
              "      <td>1</td>\n",
              "      <td>0.0</td>\n",
              "      <td>0</td>\n",
              "      <td>1</td>\n",
              "      <td>1422.10</td>\n",
              "      <td>1422.10</td>\n",
              "      <td>0.00</td>\n",
              "      <td>1422.100000</td>\n",
              "      <td>0</td>\n",
              "      <td>1</td>\n",
              "      <td>0</td>\n",
              "      <td>1</td>\n",
              "      <td>0.000000</td>\n",
              "      <td>625.779478</td>\n",
              "      <td>0</td>\n",
              "      <td>1</td>\n",
              "      <td>0</td>\n",
              "      <td>0</td>\n",
              "      <td>0</td>\n",
              "      <td>0</td>\n",
              "      <td>0</td>\n",
              "      <td>0</td>\n",
              "      <td>1</td>\n",
              "      <td>1</td>\n",
              "      <td>1</td>\n",
              "      <td>0</td>\n",
              "      <td>0</td>\n",
              "      <td>0</td>\n",
              "      <td>1</td>\n",
              "      <td>0</td>\n",
              "      <td>0</td>\n",
              "      <td>0</td>\n",
              "      <td>0</td>\n",
              "      <td>0</td>\n",
              "      <td>0</td>\n",
              "      <td>0</td>\n",
              "    </tr>\n",
              "    <tr>\n",
              "      <th>3</th>\n",
              "      <td>1</td>\n",
              "      <td>0.0</td>\n",
              "      <td>0</td>\n",
              "      <td>1</td>\n",
              "      <td>308.63</td>\n",
              "      <td>308.63</td>\n",
              "      <td>0.00</td>\n",
              "      <td>308.630000</td>\n",
              "      <td>0</td>\n",
              "      <td>1</td>\n",
              "      <td>0</td>\n",
              "      <td>1</td>\n",
              "      <td>0.000000</td>\n",
              "      <td>609.110000</td>\n",
              "      <td>0</td>\n",
              "      <td>1</td>\n",
              "      <td>0</td>\n",
              "      <td>0</td>\n",
              "      <td>1</td>\n",
              "      <td>0</td>\n",
              "      <td>0</td>\n",
              "      <td>0</td>\n",
              "      <td>0</td>\n",
              "      <td>1</td>\n",
              "      <td>1</td>\n",
              "      <td>0</td>\n",
              "      <td>0</td>\n",
              "      <td>0</td>\n",
              "      <td>0</td>\n",
              "      <td>1</td>\n",
              "      <td>0</td>\n",
              "      <td>0</td>\n",
              "      <td>0</td>\n",
              "      <td>0</td>\n",
              "      <td>0</td>\n",
              "      <td>0</td>\n",
              "    </tr>\n",
              "    <tr>\n",
              "      <th>4</th>\n",
              "      <td>11</td>\n",
              "      <td>509.0</td>\n",
              "      <td>4</td>\n",
              "      <td>6</td>\n",
              "      <td>171.90</td>\n",
              "      <td>131.51</td>\n",
              "      <td>171.90</td>\n",
              "      <td>158.220000</td>\n",
              "      <td>4</td>\n",
              "      <td>6</td>\n",
              "      <td>4</td>\n",
              "      <td>6</td>\n",
              "      <td>153.899000</td>\n",
              "      <td>150.426207</td>\n",
              "      <td>4</td>\n",
              "      <td>6</td>\n",
              "      <td>1</td>\n",
              "      <td>0</td>\n",
              "      <td>0</td>\n",
              "      <td>0</td>\n",
              "      <td>0</td>\n",
              "      <td>0</td>\n",
              "      <td>0</td>\n",
              "      <td>1</td>\n",
              "      <td>0</td>\n",
              "      <td>1</td>\n",
              "      <td>0</td>\n",
              "      <td>0</td>\n",
              "      <td>1</td>\n",
              "      <td>0</td>\n",
              "      <td>0</td>\n",
              "      <td>0</td>\n",
              "      <td>0</td>\n",
              "      <td>0</td>\n",
              "      <td>0</td>\n",
              "      <td>1</td>\n",
              "    </tr>\n",
              "  </tbody>\n",
              "</table>\n",
              "</div>"
            ],
            "text/plain": [
              "   TotalEventsInSession  interactionTime  ...  Weekend  Purchase\n",
              "0                     7            493.0  ...        0         0\n",
              "1                    18            585.0  ...        0         1\n",
              "2                     1              0.0  ...        0         0\n",
              "3                     1              0.0  ...        0         0\n",
              "4                    11            509.0  ...        0         1\n",
              "\n",
              "[5 rows x 36 columns]"
            ]
          },
          "metadata": {
            "tags": []
          },
          "execution_count": 5
        }
      ]
    },
    {
      "cell_type": "markdown",
      "metadata": {
        "id": "ptSEMwzY-I-q"
      },
      "source": [
        "## 1.5M session-level records are given to you. Your goal is to find which data set is best for session-level \"purchase\" classification!"
      ]
    },
    {
      "cell_type": "markdown",
      "metadata": {
        "id": "qW9BT7eS-oH7"
      },
      "source": [
        "# Task 1 [Instructor Led]: Generate Data models out of sequence data per session. \r\n",
        "Here, sequence of events (view, cart, remove, purchase) are to be generated per session to see if the sequences just by themselves can indicate if a purchase would occur by the end of the session or not!\r\n",
        "This work is the modification from the paper: https://arxiv.org/ftp/arxiv/papers/2010/2010.02503.pdf"
      ]
    },
    {
      "cell_type": "markdown",
      "metadata": {
        "id": "1nW-ZTezxAEw"
      },
      "source": [
        "## Step 1: Create sequence data per session"
      ]
    },
    {
      "cell_type": "code",
      "metadata": {
        "id": "z7fl9XZMP6f0"
      },
      "source": [
        "# Convert the Events to numeric sequences\n",
        "events = {'purchase':1,'cart': 2,'view': 3, 'remove_from_cart':4}\n",
        "data['event'] = data.event_type.map(events)"
      ],
      "execution_count": 6,
      "outputs": []
    },
    {
      "cell_type": "code",
      "metadata": {
        "id": "_XPpZb68P6f0",
        "colab": {
          "base_uri": "https://localhost:8080/",
          "height": 204
        },
        "outputId": "3b771abd-4ad2-4cd8-8a99-1de5ee0adf05"
      },
      "source": [
        "# Sort the events by 'event time'\r\n",
        "data = data.sort_values('event_time')\r\n",
        "data.head()"
      ],
      "execution_count": 7,
      "outputs": [
        {
          "output_type": "execute_result",
          "data": {
            "text/html": [
              "<div>\n",
              "<style scoped>\n",
              "    .dataframe tbody tr th:only-of-type {\n",
              "        vertical-align: middle;\n",
              "    }\n",
              "\n",
              "    .dataframe tbody tr th {\n",
              "        vertical-align: top;\n",
              "    }\n",
              "\n",
              "    .dataframe thead th {\n",
              "        text-align: right;\n",
              "    }\n",
              "</style>\n",
              "<table border=\"1\" class=\"dataframe\">\n",
              "  <thead>\n",
              "    <tr style=\"text-align: right;\">\n",
              "      <th></th>\n",
              "      <th>event_time</th>\n",
              "      <th>event_type</th>\n",
              "      <th>product_id</th>\n",
              "      <th>category_id</th>\n",
              "      <th>brand</th>\n",
              "      <th>price</th>\n",
              "      <th>user_id</th>\n",
              "      <th>user_session</th>\n",
              "      <th>year</th>\n",
              "      <th>month</th>\n",
              "      <th>weekday</th>\n",
              "      <th>hour</th>\n",
              "      <th>event</th>\n",
              "    </tr>\n",
              "  </thead>\n",
              "  <tbody>\n",
              "    <tr>\n",
              "      <th>0</th>\n",
              "      <td>2019-12-01 00:00:00</td>\n",
              "      <td>remove_from_cart</td>\n",
              "      <td>5712790</td>\n",
              "      <td>1487580005268456287</td>\n",
              "      <td>f.o.x</td>\n",
              "      <td>6.27</td>\n",
              "      <td>576802932</td>\n",
              "      <td>51d85cb0-897f-48d2-918b-ad63965c12dc</td>\n",
              "      <td>2019</td>\n",
              "      <td>12</td>\n",
              "      <td>Sunday</td>\n",
              "      <td>0</td>\n",
              "      <td>4</td>\n",
              "    </tr>\n",
              "    <tr>\n",
              "      <th>1</th>\n",
              "      <td>2019-12-01 00:00:00</td>\n",
              "      <td>view</td>\n",
              "      <td>5764655</td>\n",
              "      <td>1487580005411062629</td>\n",
              "      <td>cnd</td>\n",
              "      <td>29.05</td>\n",
              "      <td>412120092</td>\n",
              "      <td>8adff31e-2051-4894-9758-224bfa8aec18</td>\n",
              "      <td>2019</td>\n",
              "      <td>12</td>\n",
              "      <td>Sunday</td>\n",
              "      <td>0</td>\n",
              "      <td>3</td>\n",
              "    </tr>\n",
              "    <tr>\n",
              "      <th>2</th>\n",
              "      <td>2019-12-01 00:00:02</td>\n",
              "      <td>cart</td>\n",
              "      <td>4958</td>\n",
              "      <td>1487580009471148064</td>\n",
              "      <td>runail</td>\n",
              "      <td>1.19</td>\n",
              "      <td>494077766</td>\n",
              "      <td>c99a50e8-2fac-4c4d-89ec-41c05f114554</td>\n",
              "      <td>2019</td>\n",
              "      <td>12</td>\n",
              "      <td>Sunday</td>\n",
              "      <td>0</td>\n",
              "      <td>2</td>\n",
              "    </tr>\n",
              "    <tr>\n",
              "      <th>3</th>\n",
              "      <td>2019-12-01 00:00:05</td>\n",
              "      <td>view</td>\n",
              "      <td>5848413</td>\n",
              "      <td>1487580007675986893</td>\n",
              "      <td>freedecor</td>\n",
              "      <td>0.79</td>\n",
              "      <td>348405118</td>\n",
              "      <td>722ffea5-73c0-4924-8e8f-371ff8031af4</td>\n",
              "      <td>2019</td>\n",
              "      <td>12</td>\n",
              "      <td>Sunday</td>\n",
              "      <td>0</td>\n",
              "      <td>3</td>\n",
              "    </tr>\n",
              "    <tr>\n",
              "      <th>4</th>\n",
              "      <td>2019-12-01 00:00:07</td>\n",
              "      <td>view</td>\n",
              "      <td>5824148</td>\n",
              "      <td>1487580005511725929</td>\n",
              "      <td>nan</td>\n",
              "      <td>5.56</td>\n",
              "      <td>576005683</td>\n",
              "      <td>28172809-7e4a-45ce-bab0-5efa90117cd5</td>\n",
              "      <td>2019</td>\n",
              "      <td>12</td>\n",
              "      <td>Sunday</td>\n",
              "      <td>0</td>\n",
              "      <td>3</td>\n",
              "    </tr>\n",
              "  </tbody>\n",
              "</table>\n",
              "</div>"
            ],
            "text/plain": [
              "           event_time        event_type  product_id  ...  weekday hour  event\n",
              "0 2019-12-01 00:00:00  remove_from_cart     5712790  ...   Sunday    0      4\n",
              "1 2019-12-01 00:00:00              view     5764655  ...   Sunday    0      3\n",
              "2 2019-12-01 00:00:02              cart        4958  ...   Sunday    0      2\n",
              "3 2019-12-01 00:00:05              view     5848413  ...   Sunday    0      3\n",
              "4 2019-12-01 00:00:07              view     5824148  ...   Sunday    0      3\n",
              "\n",
              "[5 rows x 13 columns]"
            ]
          },
          "metadata": {
            "tags": []
          },
          "execution_count": 7
        }
      ]
    },
    {
      "cell_type": "markdown",
      "metadata": {
        "id": "kkFzILKzkRrt"
      },
      "source": [
        "Next, pre-process the data to extract a Purchase (event=1) or not (event>1) label."
      ]
    },
    {
      "cell_type": "code",
      "metadata": {
        "id": "YEOeD6osP6f1"
      },
      "source": [
        "sequence = data.groupby('user_session')['event'].apply(list)\r\n",
        "sequence = sequence.reset_index()\r\n",
        "sequence['purchase'] = sequence['event'].apply(lambda x: 1 if 1 in x else 0)\r\n",
        "sequence = sequence[sequence['event'].map(len)> 1]"
      ],
      "execution_count": 8,
      "outputs": []
    },
    {
      "cell_type": "code",
      "metadata": {
        "scrolled": true,
        "id": "fl26fdnvP6f4",
        "colab": {
          "base_uri": "https://localhost:8080/",
          "height": 221
        },
        "outputId": "e513d2d5-64ee-4f81-a46b-03308f670f7b"
      },
      "source": [
        "#The sequence data should not contain the \"purchase field\" so it is filtered out\r\n",
        "sequence['event']= sequence.event.apply(lambda row: list(filter(lambda a: a != 1, row)))\r\n",
        "print('Total number of records=', sequence.shape[0])\r\n",
        "sequence.head()"
      ],
      "execution_count": 9,
      "outputs": [
        {
          "output_type": "stream",
          "text": [
            "Total number of records= 119480\n"
          ],
          "name": "stdout"
        },
        {
          "output_type": "execute_result",
          "data": {
            "text/html": [
              "<div>\n",
              "<style scoped>\n",
              "    .dataframe tbody tr th:only-of-type {\n",
              "        vertical-align: middle;\n",
              "    }\n",
              "\n",
              "    .dataframe tbody tr th {\n",
              "        vertical-align: top;\n",
              "    }\n",
              "\n",
              "    .dataframe thead th {\n",
              "        text-align: right;\n",
              "    }\n",
              "</style>\n",
              "<table border=\"1\" class=\"dataframe\">\n",
              "  <thead>\n",
              "    <tr style=\"text-align: right;\">\n",
              "      <th></th>\n",
              "      <th>user_session</th>\n",
              "      <th>event</th>\n",
              "      <th>purchase</th>\n",
              "    </tr>\n",
              "  </thead>\n",
              "  <tbody>\n",
              "    <tr>\n",
              "      <th>2</th>\n",
              "      <td>00018d32-afba-4db8-9d3d-562c83580579</td>\n",
              "      <td>[3, 2]</td>\n",
              "      <td>0</td>\n",
              "    </tr>\n",
              "    <tr>\n",
              "      <th>4</th>\n",
              "      <td>0001d956-e104-487b-a045-3864d7b9a022</td>\n",
              "      <td>[2, 2, 2, 2, 2, 2, 2]</td>\n",
              "      <td>0</td>\n",
              "    </tr>\n",
              "    <tr>\n",
              "      <th>5</th>\n",
              "      <td>0001ebd4-441d-4c2f-a888-929a63b2afe3</td>\n",
              "      <td>[3, 3, 3, 3, 3, 3, 3, 3]</td>\n",
              "      <td>0</td>\n",
              "    </tr>\n",
              "    <tr>\n",
              "      <th>7</th>\n",
              "      <td>00027027-c51e-4b8f-82bc-0122b3d44204</td>\n",
              "      <td>[3, 3, 3, 3, 3, 3, 3, 3, 3, 3, 2, 2, 2, 3, 3, ...</td>\n",
              "      <td>0</td>\n",
              "    </tr>\n",
              "    <tr>\n",
              "      <th>9</th>\n",
              "      <td>0002b72e-c9b0-4b2e-99c8-a6c8630c4cfe</td>\n",
              "      <td>[2, 3, 2, 2, 4, 4, 4, 4, 4, 4, 3, 3, 3, 4, 4, ...</td>\n",
              "      <td>0</td>\n",
              "    </tr>\n",
              "  </tbody>\n",
              "</table>\n",
              "</div>"
            ],
            "text/plain": [
              "                           user_session  ... purchase\n",
              "2  00018d32-afba-4db8-9d3d-562c83580579  ...        0\n",
              "4  0001d956-e104-487b-a045-3864d7b9a022  ...        0\n",
              "5  0001ebd4-441d-4c2f-a888-929a63b2afe3  ...        0\n",
              "7  00027027-c51e-4b8f-82bc-0122b3d44204  ...        0\n",
              "9  0002b72e-c9b0-4b2e-99c8-a6c8630c4cfe  ...        0\n",
              "\n",
              "[5 rows x 3 columns]"
            ]
          },
          "metadata": {
            "tags": []
          },
          "execution_count": 9
        }
      ]
    },
    {
      "cell_type": "markdown",
      "metadata": {
        "id": "pU6mRjRiEGHZ"
      },
      "source": [
        "# So 'sequence' represents data regarding per-session browsing sequence.\r\n",
        "But what does an average sequence look like? Can some sequences be specifically long and others be too short? Lets analyze..."
      ]
    },
    {
      "cell_type": "code",
      "metadata": {
        "id": "K2Mf3A5yP6f4"
      },
      "source": [
        "#Find the length of events per user-session\r\n",
        "length = sequence['event'].map(len).to_list()"
      ],
      "execution_count": 10,
      "outputs": []
    },
    {
      "cell_type": "code",
      "metadata": {
        "id": "MJrKuMCDP6f5"
      },
      "source": [
        "import seaborn as sns"
      ],
      "execution_count": 11,
      "outputs": []
    },
    {
      "cell_type": "code",
      "metadata": {
        "id": "agn_AM6dP6f5",
        "colab": {
          "base_uri": "https://localhost:8080/",
          "height": 336
        },
        "outputId": "f8e087c4-a3ad-4dd7-d97d-20590f91195b"
      },
      "source": [
        "sns.distplot(length)"
      ],
      "execution_count": 12,
      "outputs": [
        {
          "output_type": "stream",
          "text": [
            "/usr/local/lib/python3.6/dist-packages/seaborn/distributions.py:2557: FutureWarning: `distplot` is a deprecated function and will be removed in a future version. Please adapt your code to use either `displot` (a figure-level function with similar flexibility) or `histplot` (an axes-level function for histograms).\n",
            "  warnings.warn(msg, FutureWarning)\n"
          ],
          "name": "stderr"
        },
        {
          "output_type": "execute_result",
          "data": {
            "text/plain": [
              "<matplotlib.axes._subplots.AxesSubplot at 0x7f2a6a863da0>"
            ]
          },
          "metadata": {
            "tags": []
          },
          "execution_count": 12
        },
        {
          "output_type": "display_data",
          "data": {
            "image/png": "[encoded data removed]",
            "text/plain": [
              "<Figure size 432x288 with 1 Axes>"
            ]
          },
          "metadata": {
            "tags": [],
            "needs_background": "light"
          }
        }
      ]
    },
    {
      "cell_type": "markdown",
      "metadata": {
        "id": "alxwobvPP6f6"
      },
      "source": [
        "# So we see, most sequences are about 100 or shorter. \r\n",
        "One major task is to find the optimal sequence size for highet prediction accuracy. Lets try for small and large sequence sizes to find the difference!\r\n",
        "# Step 2: Lets analyze upto size 10 sequences and upto size 100 sequences separately!"
      ]
    },
    {
      "cell_type": "code",
      "metadata": {
        "id": "dLZ-S5lxP6f6"
      },
      "source": [
        "# select all sequences that are upto 10 events long. Discard remaining sequences.\r\n",
        "short_sequence_10 = sequence[sequence['event'].map(len) <= 10]"
      ],
      "execution_count": 13,
      "outputs": []
    },
    {
      "cell_type": "code",
      "metadata": {
        "id": "Fzy_4xh3P6f7",
        "colab": {
          "base_uri": "https://localhost:8080/",
          "height": 419
        },
        "outputId": "89fb8784-422d-40ef-c072-72981fda2496"
      },
      "source": [
        "#Lets see how many records come up\r\n",
        "short_sequence_10"
      ],
      "execution_count": 14,
      "outputs": [
        {
          "output_type": "execute_result",
          "data": {
            "text/html": [
              "<div>\n",
              "<style scoped>\n",
              "    .dataframe tbody tr th:only-of-type {\n",
              "        vertical-align: middle;\n",
              "    }\n",
              "\n",
              "    .dataframe tbody tr th {\n",
              "        vertical-align: top;\n",
              "    }\n",
              "\n",
              "    .dataframe thead th {\n",
              "        text-align: right;\n",
              "    }\n",
              "</style>\n",
              "<table border=\"1\" class=\"dataframe\">\n",
              "  <thead>\n",
              "    <tr style=\"text-align: right;\">\n",
              "      <th></th>\n",
              "      <th>user_session</th>\n",
              "      <th>event</th>\n",
              "      <th>purchase</th>\n",
              "    </tr>\n",
              "  </thead>\n",
              "  <tbody>\n",
              "    <tr>\n",
              "      <th>2</th>\n",
              "      <td>00018d32-afba-4db8-9d3d-562c83580579</td>\n",
              "      <td>[3, 2]</td>\n",
              "      <td>0</td>\n",
              "    </tr>\n",
              "    <tr>\n",
              "      <th>4</th>\n",
              "      <td>0001d956-e104-487b-a045-3864d7b9a022</td>\n",
              "      <td>[2, 2, 2, 2, 2, 2, 2]</td>\n",
              "      <td>0</td>\n",
              "    </tr>\n",
              "    <tr>\n",
              "      <th>5</th>\n",
              "      <td>0001ebd4-441d-4c2f-a888-929a63b2afe3</td>\n",
              "      <td>[3, 3, 3, 3, 3, 3, 3, 3]</td>\n",
              "      <td>0</td>\n",
              "    </tr>\n",
              "    <tr>\n",
              "      <th>10</th>\n",
              "      <td>0002ba44-8b73-4ace-b7c8-fe946aa63cc2</td>\n",
              "      <td>[3, 2, 2]</td>\n",
              "      <td>0</td>\n",
              "    </tr>\n",
              "    <tr>\n",
              "      <th>17</th>\n",
              "      <td>0003d895-8dd0-47c2-94e0-92f7a9031c74</td>\n",
              "      <td>[3, 3]</td>\n",
              "      <td>0</td>\n",
              "    </tr>\n",
              "    <tr>\n",
              "      <th>...</th>\n",
              "      <td>...</td>\n",
              "      <td>...</td>\n",
              "      <td>...</td>\n",
              "    </tr>\n",
              "    <tr>\n",
              "      <th>336954</th>\n",
              "      <td>fffb5277-899a-46d8-b51e-2c1f61880f4e</td>\n",
              "      <td>[3, 2]</td>\n",
              "      <td>0</td>\n",
              "    </tr>\n",
              "    <tr>\n",
              "      <th>336963</th>\n",
              "      <td>fffcec5a-c2e3-4e13-8f40-a63f7d14c81f</td>\n",
              "      <td>[4, 4]</td>\n",
              "      <td>0</td>\n",
              "    </tr>\n",
              "    <tr>\n",
              "      <th>336965</th>\n",
              "      <td>fffd3d91-5734-42ac-b149-7403417ec3e2</td>\n",
              "      <td>[3, 3, 3, 3, 3]</td>\n",
              "      <td>0</td>\n",
              "    </tr>\n",
              "    <tr>\n",
              "      <th>336966</th>\n",
              "      <td>fffd5100-6389-486d-8732-9066c47f7ba1</td>\n",
              "      <td>[3, 3, 2, 3, 3]</td>\n",
              "      <td>0</td>\n",
              "    </tr>\n",
              "    <tr>\n",
              "      <th>336974</th>\n",
              "      <td>ffff19e6-2095-4104-b1ac-00cd5f43f0e0</td>\n",
              "      <td>[3, 2, 3]</td>\n",
              "      <td>0</td>\n",
              "    </tr>\n",
              "  </tbody>\n",
              "</table>\n",
              "<p>91715 rows × 3 columns</p>\n",
              "</div>"
            ],
            "text/plain": [
              "                                user_session  ... purchase\n",
              "2       00018d32-afba-4db8-9d3d-562c83580579  ...        0\n",
              "4       0001d956-e104-487b-a045-3864d7b9a022  ...        0\n",
              "5       0001ebd4-441d-4c2f-a888-929a63b2afe3  ...        0\n",
              "10      0002ba44-8b73-4ace-b7c8-fe946aa63cc2  ...        0\n",
              "17      0003d895-8dd0-47c2-94e0-92f7a9031c74  ...        0\n",
              "...                                      ...  ...      ...\n",
              "336954  fffb5277-899a-46d8-b51e-2c1f61880f4e  ...        0\n",
              "336963  fffcec5a-c2e3-4e13-8f40-a63f7d14c81f  ...        0\n",
              "336965  fffd3d91-5734-42ac-b149-7403417ec3e2  ...        0\n",
              "336966  fffd5100-6389-486d-8732-9066c47f7ba1  ...        0\n",
              "336974  ffff19e6-2095-4104-b1ac-00cd5f43f0e0  ...        0\n",
              "\n",
              "[91715 rows x 3 columns]"
            ]
          },
          "metadata": {
            "tags": []
          },
          "execution_count": 14
        }
      ]
    },
    {
      "cell_type": "markdown",
      "metadata": {
        "id": "uDScrStaFqnm"
      },
      "source": [
        "# Now that you have the limited sequence data, create a data model for it.\r\n",
        "# Step 3: Fitting data models: Simple RNN, GRU, LSTM to predict sessions that have a 'purchase' in them.\r\n",
        "\r\n",
        "Apply 70/30 split to data and implement sequence models"
      ]
    },
    {
      "cell_type": "code",
      "metadata": {
        "id": "K6qRStdGP6f7"
      },
      "source": [
        "event_sequence = short_sequence_10['event'].to_list()"
      ],
      "execution_count": 15,
      "outputs": []
    },
    {
      "cell_type": "code",
      "metadata": {
        "id": "MKLHK-SdP6f8"
      },
      "source": [
        "# Pad all sequences with zeros so all inputs have same consistent size of 10\n",
        "from keras.preprocessing.sequence import pad_sequences\n",
        "from sklearn.model_selection import train_test_split\n",
        "event = pad_sequences(event_sequence)"
      ],
      "execution_count": 16,
      "outputs": []
    },
    {
      "cell_type": "code",
      "metadata": {
        "scrolled": true,
        "id": "ZuOIbSAcP6f8",
        "colab": {
          "base_uri": "https://localhost:8080/"
        },
        "outputId": "90b903bd-4699-424c-8e6a-33f8ff7a6b08"
      },
      "source": [
        "# One Hot Encoding the Purchase label\n",
        "y = np.array(pd.get_dummies(short_sequence_10['purchase'],prefix='Purchase'))\n",
        "z=np.sum(y[:,1])/len(y)\n",
        "print('Percentage of Purchase sessions=',z*100)"
      ],
      "execution_count": 17,
      "outputs": [
        {
          "output_type": "stream",
          "text": [
            "Percentage of Purchase sessions= 6.487488415199258\n"
          ],
          "name": "stdout"
        }
      ]
    },
    {
      "cell_type": "code",
      "metadata": {
        "id": "BbwdeT39h6l5"
      },
      "source": [
        "#Define a function to generate 70/30 data split followed by data resizing!\r\n",
        "def prepare_train_test_data(data,y):\r\n",
        "  #input is data[nxd] and Y[nx2], outputs 70/30 split formatted for the sequence models\r\n",
        "  X_train, X_test, y_train, y_test = train_test_split(data, y,                              \r\n",
        "                                                    test_size=0.3)\r\n",
        "  #Resizing is necessary since input to sequence models is (1,d)\r\n",
        "  X_train = X_train.reshape((X_train.shape[0], 1, X_train.shape[1]))\r\n",
        "  X_test = X_test.reshape((X_test.shape[0], 1, X_test.shape[1]))\r\n",
        "  return (X_train,X_test,y_train,y_test)"
      ],
      "execution_count": 18,
      "outputs": []
    },
    {
      "cell_type": "code",
      "metadata": {
        "id": "rjK0Z2WQP6f9",
        "colab": {
          "base_uri": "https://localhost:8080/"
        },
        "outputId": "d3008174-74aa-4615-f558-94d133bf9f6c"
      },
      "source": [
        "X_train, X_test, y_train, y_test=prepare_train_test_data(np.array(event),y)\r\n",
        "print(X_train.shape, y_train.shape)"
      ],
      "execution_count": 19,
      "outputs": [
        {
          "output_type": "stream",
          "text": [
            "(64200, 1, 10) (64200, 2)\n"
          ],
          "name": "stdout"
        }
      ]
    },
    {
      "cell_type": "markdown",
      "metadata": {
        "id": "krjPyvUzP6f_"
      },
      "source": [
        "## Finally, train and test a sequence model built using: SimpleRNN, GRU and LSTM and compare results!"
      ]
    },
    {
      "cell_type": "code",
      "metadata": {
        "id": "wlp3503JIL83"
      },
      "source": [
        "#Helper functions for this:\r\n",
        "import matplotlib.pyplot as plt\r\n",
        "from sklearn.metrics import confusion_matrix\r\n",
        "\r\n",
        "# demonstration of calculating metrics for a neural network model using sklearn\r\n",
        "from sklearn.datasets import make_circles\r\n",
        "from sklearn.metrics import accuracy_score\r\n",
        "from sklearn.metrics import precision_score\r\n",
        "from sklearn.metrics import recall_score\r\n",
        "from sklearn.metrics import f1_score\r\n",
        "from sklearn.metrics import cohen_kappa_score\r\n",
        "from sklearn.metrics import roc_auc_score\r\n",
        "\r\n",
        "\r\n",
        "def plot_history(history):\r\n",
        "  # This function will plot the model fit process\r\n",
        "  print(history.history.keys())\r\n",
        "  # summarize history for accuracy\r\n",
        "  plt.plot(history.history['acc'])\r\n",
        "  plt.plot(history.history['val_acc'])\r\n",
        "  plt.title('model accuracy')\r\n",
        "  plt.ylabel('acc')\r\n",
        "  plt.xlabel('epoch')\r\n",
        "  plt.legend(['train', 'test'], loc='upper left')\r\n",
        "  plt.show()\r\n",
        "  # summarize history for loss\r\n",
        "  plt.plot(history.history['loss'])\r\n",
        "  plt.plot(history.history['val_loss'])\r\n",
        "  plt.title('model loss')\r\n",
        "  plt.ylabel('loss')\r\n",
        "  plt.xlabel('epoch')\r\n",
        "  plt.legend(['train', 'test'], loc='upper left')\r\n",
        "  plt.show()\r\n",
        "\r\n",
        "\r\n",
        "def evaluate_on_test(X_test, y_test, training_model):\r\n",
        "  #This function will evaluate the fit model on test data\r\n",
        "  g_preds=training_model.predict_classes(X_test)\r\n",
        "  gaccuracy = accuracy_score(y_test[:,1], g_preds)\r\n",
        "  print('Accuracy: %f' % gaccuracy)\r\n",
        "  # precision tp / (tp + fp)\r\n",
        "  gprecision = precision_score(y_test[:,1], g_preds)\r\n",
        "  print('Precision: %f' % gprecision)\r\n",
        "  # recall: tp / (tp + fn)\r\n",
        "  grecall = recall_score(y_test[:,1], g_preds)\r\n",
        "  print('Recall: %f' % grecall)\r\n",
        "  # f1: 2 tp / (2 tp + fp + fn)\r\n",
        "  gf1 = f1_score(y_test[:,1], g_preds)\r\n",
        "  print('F1 score: %f' % gf1)\r\n",
        "  return gaccuracy, gprecision, grecall, gf1\r\n"
      ],
      "execution_count": 20,
      "outputs": []
    },
    {
      "cell_type": "markdown",
      "metadata": {
        "id": "_ORGIGQSI3Ei"
      },
      "source": [
        "# The following example shows a model designed using Simple RNN. Repeat the same using GRU and LSTM."
      ]
    },
    {
      "cell_type": "code",
      "metadata": {
        "id": "ytK1F5UMI6EC"
      },
      "source": [
        "from tensorflow.keras.layers import GRU, Embedding, SimpleRNN, Activation\r\n",
        "import tensorflow as tf"
      ],
      "execution_count": 21,
      "outputs": []
    },
    {
      "cell_type": "code",
      "metadata": {
        "id": "p8fOqyJPJDc5"
      },
      "source": [
        "#This is a simple RNN model\r\n",
        "def simple_RNN_model(neurons=40, op=10):\r\n",
        "    model = Sequential()\r\n",
        "    model.add(SimpleRNN(neurons, return_sequences = True, input_shape = (1,op)))\r\n",
        "    model.add(SimpleRNN(2*neurons))\r\n",
        "    model.add(Dense(2, activation='softmax'))\r\n",
        "    model.compile(\r\n",
        "      optimizer=tf.optimizers.Adam(learning_rate=0.0003),\r\n",
        "      loss='binary_crossentropy',\r\n",
        "      metrics=['acc'])\r\n",
        "    return model"
      ],
      "execution_count": 22,
      "outputs": []
    },
    {
      "cell_type": "code",
      "metadata": {
        "colab": {
          "base_uri": "https://localhost:8080/"
        },
        "id": "1cuwPUcLJvh6",
        "outputId": "a05df3d0-6aed-4237-be62-e3e74c0538ca"
      },
      "source": [
        "#Visualize the Model\r\n",
        "tf.keras.backend.clear_session()\r\n",
        "RNN_model = simple_RNN_model(neurons=40, op=10)\r\n",
        "RNN_model.summary()"
      ],
      "execution_count": 23,
      "outputs": [
        {
          "output_type": "stream",
          "text": [
            "Model: \"sequential\"\n",
            "_________________________________________________________________\n",
            "Layer (type)                 Output Shape              Param #   \n",
            "=================================================================\n",
            "simple_rnn (SimpleRNN)       (None, 1, 40)             2040      \n",
            "_________________________________________________________________\n",
            "simple_rnn_1 (SimpleRNN)     (None, 80)                9680      \n",
            "_________________________________________________________________\n",
            "dense (Dense)                (None, 2)                 162       \n",
            "=================================================================\n",
            "Total params: 11,882\n",
            "Trainable params: 11,882\n",
            "Non-trainable params: 0\n",
            "_________________________________________________________________\n"
          ],
          "name": "stdout"
        }
      ]
    },
    {
      "cell_type": "code",
      "metadata": {
        "colab": {
          "base_uri": "https://localhost:8080/"
        },
        "id": "IhdK1Xd6JJCw",
        "outputId": "ba92a6ef-2929-43ea-c6a0-fae066accc40"
      },
      "source": [
        "#Fit the model using 80/20 validation split at runtime\r\n",
        "r_history = RNN_model.fit(X_train, y_train,\r\n",
        "                    epochs=20,\r\n",
        "                    batch_size=1000,#atleast 1000 records per epoch\r\n",
        "                    validation_split=0.2)"
      ],
      "execution_count": 24,
      "outputs": [
        {
          "output_type": "stream",
          "text": [
            "Epoch 1/20\n",
            "52/52 [==============================] - 3s 19ms/step - loss: 0.5709 - acc: 0.7018 - val_loss: 0.2580 - val_acc: 0.9368\n",
            "Epoch 2/20\n",
            "52/52 [==============================] - 0s 6ms/step - loss: 0.2412 - acc: 0.9343 - val_loss: 0.2111 - val_acc: 0.9368\n",
            "Epoch 3/20\n",
            "52/52 [==============================] - 0s 6ms/step - loss: 0.2103 - acc: 0.9352 - val_loss: 0.2029 - val_acc: 0.9368\n",
            "Epoch 4/20\n",
            "52/52 [==============================] - 0s 6ms/step - loss: 0.2076 - acc: 0.9346 - val_loss: 0.2000 - val_acc: 0.9368\n",
            "Epoch 5/20\n",
            "52/52 [==============================] - 0s 6ms/step - loss: 0.2111 - acc: 0.9318 - val_loss: 0.1981 - val_acc: 0.9368\n",
            "Epoch 6/20\n",
            "52/52 [==============================] - 0s 6ms/step - loss: 0.2052 - acc: 0.9338 - val_loss: 0.1964 - val_acc: 0.9368\n",
            "Epoch 7/20\n",
            "52/52 [==============================] - 0s 6ms/step - loss: 0.2029 - acc: 0.9338 - val_loss: 0.1949 - val_acc: 0.9368\n",
            "Epoch 8/20\n",
            "52/52 [==============================] - 0s 6ms/step - loss: 0.2025 - acc: 0.9332 - val_loss: 0.1934 - val_acc: 0.9461\n",
            "Epoch 9/20\n",
            "52/52 [==============================] - 0s 6ms/step - loss: 0.2008 - acc: 0.9439 - val_loss: 0.1920 - val_acc: 0.9461\n",
            "Epoch 10/20\n",
            "52/52 [==============================] - 0s 6ms/step - loss: 0.1996 - acc: 0.9441 - val_loss: 0.1907 - val_acc: 0.9461\n",
            "Epoch 11/20\n",
            "52/52 [==============================] - 0s 5ms/step - loss: 0.2003 - acc: 0.9439 - val_loss: 0.1895 - val_acc: 0.9461\n",
            "Epoch 12/20\n",
            "52/52 [==============================] - 0s 6ms/step - loss: 0.1934 - acc: 0.9471 - val_loss: 0.1885 - val_acc: 0.9514\n",
            "Epoch 13/20\n",
            "52/52 [==============================] - 0s 6ms/step - loss: 0.1931 - acc: 0.9507 - val_loss: 0.1875 - val_acc: 0.9514\n",
            "Epoch 14/20\n",
            "52/52 [==============================] - 0s 6ms/step - loss: 0.1959 - acc: 0.9495 - val_loss: 0.1867 - val_acc: 0.9514\n",
            "Epoch 15/20\n",
            "52/52 [==============================] - 0s 6ms/step - loss: 0.1896 - acc: 0.9510 - val_loss: 0.1859 - val_acc: 0.9514\n",
            "Epoch 16/20\n",
            "52/52 [==============================] - 0s 6ms/step - loss: 0.1904 - acc: 0.9506 - val_loss: 0.1853 - val_acc: 0.9514\n",
            "Epoch 17/20\n",
            "52/52 [==============================] - 0s 6ms/step - loss: 0.1964 - acc: 0.9487 - val_loss: 0.1847 - val_acc: 0.9514\n",
            "Epoch 18/20\n",
            "52/52 [==============================] - 0s 6ms/step - loss: 0.1886 - acc: 0.9510 - val_loss: 0.1842 - val_acc: 0.9514\n",
            "Epoch 19/20\n",
            "52/52 [==============================] - 0s 6ms/step - loss: 0.1847 - acc: 0.9522 - val_loss: 0.1837 - val_acc: 0.9514\n",
            "Epoch 20/20\n",
            "52/52 [==============================] - 0s 6ms/step - loss: 0.1948 - acc: 0.9489 - val_loss: 0.1831 - val_acc: 0.9514\n"
          ],
          "name": "stdout"
        }
      ]
    },
    {
      "cell_type": "code",
      "metadata": {
        "colab": {
          "base_uri": "https://localhost:8080/",
          "height": 590
        },
        "id": "zVJTgqvHJJFB",
        "outputId": "d018383e-b3b2-432d-f7e7-e30eba81c19a"
      },
      "source": [
        "plot_history(r_history)"
      ],
      "execution_count": 25,
      "outputs": [
        {
          "output_type": "stream",
          "text": [
            "dict_keys(['loss', 'acc', 'val_loss', 'val_acc'])\n"
          ],
          "name": "stdout"
        },
        {
          "output_type": "display_data",
          "data": {
            "image/png": "[encoded data removed]",
            "text/plain": [
              "<Figure size 432x288 with 1 Axes>"
            ]
          },
          "metadata": {
            "tags": [],
            "needs_background": "light"
          }
        },
        {
          "output_type": "display_data",
          "data": {
            "image/png": "[encoded data removed]",
            "text/plain": [
              "<Figure size 432x288 with 1 Axes>"
            ]
          },
          "metadata": {
            "tags": [],
            "needs_background": "light"
          }
        }
      ]
    },
    {
      "cell_type": "code",
      "metadata": {
        "colab": {
          "base_uri": "https://localhost:8080/"
        },
        "id": "ZRTCPXThJ38p",
        "outputId": "140ba549-27ba-446b-8c68-37738ab3e908"
      },
      "source": [
        "raccuracy, rprecision, rrecall, rf1 = evaluate_on_test(X_test,y_test,RNN_model)"
      ],
      "execution_count": 26,
      "outputs": [
        {
          "output_type": "stream",
          "text": [
            "/usr/local/lib/python3.6/dist-packages/tensorflow/python/keras/engine/sequential.py:450: UserWarning: `model.predict_classes()` is deprecated and will be removed after 2021-01-01. Please use instead:* `np.argmax(model.predict(x), axis=-1)`,   if your model does multi-class classification   (e.g. if it uses a `softmax` last-layer activation).* `(model.predict(x) > 0.5).astype(\"int32\")`,   if your model does binary classification   (e.g. if it uses a `sigmoid` last-layer activation).\n",
            "  warnings.warn('`model.predict_classes()` is deprecated and '\n"
          ],
          "name": "stderr"
        },
        {
          "output_type": "stream",
          "text": [
            "Accuracy: 0.951699\n",
            "Precision: 1.000000\n",
            "Recall: 0.250423\n",
            "F1 score: 0.400541\n"
          ],
          "name": "stdout"
        }
      ]
    },
    {
      "cell_type": "markdown",
      "metadata": {
        "id": "-IULjM4vLIUx"
      },
      "source": [
        "# Task 2: Run GRU and LSTM Models on the 10-sequence data. \r\n",
        "Which is the best model? What is the metric of most importance?\r\n"
      ]
    },
    {
      "cell_type": "code",
      "metadata": {
        "id": "s-zDi5ykLq2M"
      },
      "source": [
        "###############START CODE HERE##########################################################################\r\n",
        "#Define a GRU model function. Use the simple_RNN_model function and replace the RNN layers with GRU.\r\n",
        "#Notice the change in number of parameters\r\n",
        "def GRU_model(neurons=40, op=10):\r\n",
        "    model = Sequential()\r\n",
        "    model.add(GRU(neurons, return_sequences = True, input_shape = (1,op)))\r\n",
        "    model.add(GRU(2*neurons))\r\n",
        "    model.add(Dense(2, activation='softmax'))\r\n",
        "    model.compile(\r\n",
        "      optimizer=tf.optimizers.Adam(learning_rate=0.0003),\r\n",
        "      loss='binary_crossentropy',\r\n",
        "      metrics=['acc'])\r\n",
        "    return model\r\n"
      ],
      "execution_count": 27,
      "outputs": []
    },
    {
      "cell_type": "code",
      "metadata": {
        "id": "DEy3TOkMLy8T",
        "colab": {
          "base_uri": "https://localhost:8080/"
        },
        "outputId": "54fcb764-177e-481e-efba-d8ab71600413"
      },
      "source": [
        "#Visualize the Model (Notice the increase in parameters)\r\n",
        "tf.keras.backend.clear_session()\r\n",
        "G_model = GRU_model()#neurons=40, op=10)\r\n",
        "G_model.summary()"
      ],
      "execution_count": 28,
      "outputs": [
        {
          "output_type": "stream",
          "text": [
            "Model: \"sequential\"\n",
            "_________________________________________________________________\n",
            "Layer (type)                 Output Shape              Param #   \n",
            "=================================================================\n",
            "gru (GRU)                    (None, 1, 40)             6240      \n",
            "_________________________________________________________________\n",
            "gru_1 (GRU)                  (None, 80)                29280     \n",
            "_________________________________________________________________\n",
            "dense (Dense)                (None, 2)                 162       \n",
            "=================================================================\n",
            "Total params: 35,682\n",
            "Trainable params: 35,682\n",
            "Non-trainable params: 0\n",
            "_________________________________________________________________\n"
          ],
          "name": "stdout"
        }
      ]
    },
    {
      "cell_type": "code",
      "metadata": {
        "id": "pcYsLzXWMIiB",
        "colab": {
          "base_uri": "https://localhost:8080/"
        },
        "outputId": "9cb0c6fb-8567-4ecd-beb0-9244cc040726"
      },
      "source": [
        "#Train the G_model (20 epochs, 1000 samples per batch, validation split=0.2)\n",
        "g_history = G_model.fit(X_train, y_train,\n",
        "                    epochs=20,\n",
        "                    batch_size=1000,\n",
        "                    validation_split=0.2)"
      ],
      "execution_count": 29,
      "outputs": [
        {
          "output_type": "stream",
          "text": [
            "Epoch 1/20\n",
            "52/52 [==============================] - 6s 18ms/step - loss: 0.5598 - acc: 0.9322 - val_loss: 0.3625 - val_acc: 0.9368\n",
            "Epoch 2/20\n",
            "52/52 [==============================] - 0s 6ms/step - loss: 0.3187 - acc: 0.9349 - val_loss: 0.2374 - val_acc: 0.9368\n",
            "Epoch 3/20\n",
            "52/52 [==============================] - 0s 6ms/step - loss: 0.2309 - acc: 0.9342 - val_loss: 0.2151 - val_acc: 0.9368\n",
            "Epoch 4/20\n",
            "52/52 [==============================] - 0s 6ms/step - loss: 0.2154 - acc: 0.9344 - val_loss: 0.2074 - val_acc: 0.9368\n",
            "Epoch 5/20\n",
            "52/52 [==============================] - 0s 6ms/step - loss: 0.2119 - acc: 0.9337 - val_loss: 0.2048 - val_acc: 0.9368\n",
            "Epoch 6/20\n",
            "52/52 [==============================] - 0s 6ms/step - loss: 0.2098 - acc: 0.9341 - val_loss: 0.2034 - val_acc: 0.9368\n",
            "Epoch 7/20\n",
            "52/52 [==============================] - 0s 6ms/step - loss: 0.2117 - acc: 0.9334 - val_loss: 0.2023 - val_acc: 0.9368\n",
            "Epoch 8/20\n",
            "52/52 [==============================] - 0s 6ms/step - loss: 0.2066 - acc: 0.9344 - val_loss: 0.2012 - val_acc: 0.9368\n",
            "Epoch 9/20\n",
            "52/52 [==============================] - 0s 6ms/step - loss: 0.2070 - acc: 0.9337 - val_loss: 0.2001 - val_acc: 0.9368\n",
            "Epoch 10/20\n",
            "52/52 [==============================] - 0s 6ms/step - loss: 0.2020 - acc: 0.9347 - val_loss: 0.1989 - val_acc: 0.9368\n",
            "Epoch 11/20\n",
            "52/52 [==============================] - 0s 6ms/step - loss: 0.2002 - acc: 0.9350 - val_loss: 0.1976 - val_acc: 0.9368\n",
            "Epoch 12/20\n",
            "52/52 [==============================] - 0s 6ms/step - loss: 0.1997 - acc: 0.9357 - val_loss: 0.1964 - val_acc: 0.9368\n",
            "Epoch 13/20\n",
            "52/52 [==============================] - 0s 6ms/step - loss: 0.1982 - acc: 0.9428 - val_loss: 0.1950 - val_acc: 0.9461\n",
            "Epoch 14/20\n",
            "52/52 [==============================] - 0s 6ms/step - loss: 0.1982 - acc: 0.9454 - val_loss: 0.1936 - val_acc: 0.9461\n",
            "Epoch 15/20\n",
            "52/52 [==============================] - 0s 6ms/step - loss: 0.1983 - acc: 0.9455 - val_loss: 0.1922 - val_acc: 0.9461\n",
            "Epoch 16/20\n",
            "52/52 [==============================] - 0s 6ms/step - loss: 0.1936 - acc: 0.9466 - val_loss: 0.1909 - val_acc: 0.9461\n",
            "Epoch 17/20\n",
            "52/52 [==============================] - 0s 6ms/step - loss: 0.1985 - acc: 0.9444 - val_loss: 0.1896 - val_acc: 0.9481\n",
            "Epoch 18/20\n",
            "52/52 [==============================] - 0s 5ms/step - loss: 0.1916 - acc: 0.9480 - val_loss: 0.1886 - val_acc: 0.9506\n",
            "Epoch 19/20\n",
            "52/52 [==============================] - 0s 6ms/step - loss: 0.1925 - acc: 0.9496 - val_loss: 0.1874 - val_acc: 0.9514\n",
            "Epoch 20/20\n",
            "52/52 [==============================] - 0s 6ms/step - loss: 0.1973 - acc: 0.9488 - val_loss: 0.1864 - val_acc: 0.9514\n"
          ],
          "name": "stdout"
        }
      ]
    },
    {
      "cell_type": "code",
      "metadata": {
        "id": "0GdxIFEcMS94",
        "colab": {
          "base_uri": "https://localhost:8080/",
          "height": 590
        },
        "outputId": "9b3f4fc2-a3a6-4fec-95b7-17c4aff1aa7f"
      },
      "source": [
        "#Use plot_history function to plot the model curves for loss and accuracy\n",
        "plot_history(g_history)"
      ],
      "execution_count": 30,
      "outputs": [
        {
          "output_type": "stream",
          "text": [
            "dict_keys(['loss', 'acc', 'val_loss', 'val_acc'])\n"
          ],
          "name": "stdout"
        },
        {
          "output_type": "display_data",
          "data": {
            "image/png": "[encoded data removed]",
            "text/plain": [
              "<Figure size 432x288 with 1 Axes>"
            ]
          },
          "metadata": {
            "tags": [],
            "needs_background": "light"
          }
        },
        {
          "output_type": "display_data",
          "data": {
            "image/png": "[encoded data removed]",
            "text/plain": [
              "<Figure size 432x288 with 1 Axes>"
            ]
          },
          "metadata": {
            "tags": [],
            "needs_background": "light"
          }
        }
      ]
    },
    {
      "cell_type": "code",
      "metadata": {
        "id": "f4vFqrzPMWmY",
        "colab": {
          "base_uri": "https://localhost:8080/"
        },
        "outputId": "6bcb17a6-38db-4551-b1cd-53c6bf5d85f8"
      },
      "source": [
        "# Use evaluate_on_test function to note accuracy, precision, recall and F1 score on test data\n",
        "gaccuracy, gprecision, grecall, gf1 = evaluate_on_test(X_test,y_test,G_model)"
      ],
      "execution_count": 31,
      "outputs": [
        {
          "output_type": "stream",
          "text": [
            "/usr/local/lib/python3.6/dist-packages/tensorflow/python/keras/engine/sequential.py:450: UserWarning: `model.predict_classes()` is deprecated and will be removed after 2021-01-01. Please use instead:* `np.argmax(model.predict(x), axis=-1)`,   if your model does multi-class classification   (e.g. if it uses a `softmax` last-layer activation).* `(model.predict(x) > 0.5).astype(\"int32\")`,   if your model does binary classification   (e.g. if it uses a `sigmoid` last-layer activation).\n",
            "  warnings.warn('`model.predict_classes()` is deprecated and '\n"
          ],
          "name": "stderr"
        },
        {
          "output_type": "stream",
          "text": [
            "Accuracy: 0.951699\n",
            "Precision: 1.000000\n",
            "Recall: 0.250423\n",
            "F1 score: 0.400541\n"
          ],
          "name": "stdout"
        }
      ]
    },
    {
      "cell_type": "markdown",
      "metadata": {
        "id": "tfZHhIZW9zXI"
      },
      "source": [
        ""
      ]
    },
    {
      "cell_type": "code",
      "metadata": {
        "id": "62VFEslyqEWX"
      },
      "source": [
        "#Define an LSTM model function. Use the LSTM layer as shown below.\r\n",
        "#Notice the change in number of parameters\r\n",
        "def LSTM_model(neurons=40, op=10):\r\n",
        "  model = Sequential()\r\n",
        "  model.add(Bidirectional(LSTM(neurons, return_sequences=True), input_shape=(1,op)))\r\n",
        "  model.add(Bidirectional(LSTM(2*neurons)))\r\n",
        "  model.add(Dense(2, activation='softmax'))\r\n",
        "  model.compile(\r\n",
        "    optimizer=tf.optimizers.Adam(learning_rate=0.0003),\r\n",
        "    loss='binary_crossentropy',\r\n",
        "    metrics=['acc'])\r\n",
        "  return model"
      ],
      "execution_count": 32,
      "outputs": []
    },
    {
      "cell_type": "code",
      "metadata": {
        "id": "1HZqWlbtqegR",
        "colab": {
          "base_uri": "https://localhost:8080/"
        },
        "outputId": "470e5adf-630e-4a0a-f219-538ee2759d7e"
      },
      "source": [
        "tf.keras.backend.clear_session()\r\n",
        "L_model = LSTM_model(neurons=40, op=10)\r\n",
        "L_model.summary()"
      ],
      "execution_count": 33,
      "outputs": [
        {
          "output_type": "stream",
          "text": [
            "Model: \"sequential\"\n",
            "_________________________________________________________________\n",
            "Layer (type)                 Output Shape              Param #   \n",
            "=================================================================\n",
            "bidirectional (Bidirectional (None, 1, 80)             16320     \n",
            "_________________________________________________________________\n",
            "bidirectional_1 (Bidirection (None, 160)               103040    \n",
            "_________________________________________________________________\n",
            "dense (Dense)                (None, 2)                 322       \n",
            "=================================================================\n",
            "Total params: 119,682\n",
            "Trainable params: 119,682\n",
            "Non-trainable params: 0\n",
            "_________________________________________________________________\n"
          ],
          "name": "stdout"
        }
      ]
    },
    {
      "cell_type": "code",
      "metadata": {
        "id": "duvgEdL-rur0",
        "colab": {
          "base_uri": "https://localhost:8080/"
        },
        "outputId": "46369f99-7cae-4859-99b2-3ac5cd542168"
      },
      "source": [
        "#Train the training_model (20 epochs, 1000 samples per batch, validation split=0.2)\n",
        "L_history = L_model.fit(X_train, y_train,\n",
        "                    epochs=20,\n",
        "                    batch_size=1000,\n",
        "                    validation_split=0.2)"
      ],
      "execution_count": 34,
      "outputs": [
        {
          "output_type": "stream",
          "text": [
            "Epoch 1/20\n",
            "52/52 [==============================] - 7s 35ms/step - loss: 0.6399 - acc: 0.8980 - val_loss: 0.4417 - val_acc: 0.9368\n",
            "Epoch 2/20\n",
            "52/52 [==============================] - 0s 9ms/step - loss: 0.3680 - acc: 0.9350 - val_loss: 0.2386 - val_acc: 0.9368\n",
            "Epoch 3/20\n",
            "52/52 [==============================] - 0s 10ms/step - loss: 0.2312 - acc: 0.9342 - val_loss: 0.2106 - val_acc: 0.9368\n",
            "Epoch 4/20\n",
            "52/52 [==============================] - 0s 9ms/step - loss: 0.2125 - acc: 0.9342 - val_loss: 0.2035 - val_acc: 0.9368\n",
            "Epoch 5/20\n",
            "52/52 [==============================] - 0s 9ms/step - loss: 0.2109 - acc: 0.9330 - val_loss: 0.2013 - val_acc: 0.9368\n",
            "Epoch 6/20\n",
            "52/52 [==============================] - 0s 9ms/step - loss: 0.2061 - acc: 0.9339 - val_loss: 0.1999 - val_acc: 0.9368\n",
            "Epoch 7/20\n",
            "52/52 [==============================] - 0s 9ms/step - loss: 0.2036 - acc: 0.9354 - val_loss: 0.1989 - val_acc: 0.9368\n",
            "Epoch 8/20\n",
            "52/52 [==============================] - 0s 9ms/step - loss: 0.2043 - acc: 0.9340 - val_loss: 0.1979 - val_acc: 0.9368\n",
            "Epoch 9/20\n",
            "52/52 [==============================] - 0s 9ms/step - loss: 0.2031 - acc: 0.9343 - val_loss: 0.1969 - val_acc: 0.9368\n",
            "Epoch 10/20\n",
            "52/52 [==============================] - 0s 9ms/step - loss: 0.2013 - acc: 0.9348 - val_loss: 0.1960 - val_acc: 0.9368\n",
            "Epoch 11/20\n",
            "52/52 [==============================] - 1s 10ms/step - loss: 0.2055 - acc: 0.9329 - val_loss: 0.1950 - val_acc: 0.9368\n",
            "Epoch 12/20\n",
            "52/52 [==============================] - 0s 10ms/step - loss: 0.1961 - acc: 0.9355 - val_loss: 0.1941 - val_acc: 0.9368\n",
            "Epoch 13/20\n",
            "52/52 [==============================] - 1s 10ms/step - loss: 0.2013 - acc: 0.9329 - val_loss: 0.1932 - val_acc: 0.9368\n",
            "Epoch 14/20\n",
            "52/52 [==============================] - 0s 9ms/step - loss: 0.1935 - acc: 0.9363 - val_loss: 0.1927 - val_acc: 0.9368\n",
            "Epoch 15/20\n",
            "52/52 [==============================] - 0s 9ms/step - loss: 0.1967 - acc: 0.9391 - val_loss: 0.1914 - val_acc: 0.9461\n",
            "Epoch 16/20\n",
            "52/52 [==============================] - 0s 9ms/step - loss: 0.1971 - acc: 0.9446 - val_loss: 0.1905 - val_acc: 0.9461\n",
            "Epoch 17/20\n",
            "52/52 [==============================] - 0s 9ms/step - loss: 0.1919 - acc: 0.9467 - val_loss: 0.1899 - val_acc: 0.9461\n",
            "Epoch 18/20\n",
            "52/52 [==============================] - 0s 9ms/step - loss: 0.1960 - acc: 0.9454 - val_loss: 0.1891 - val_acc: 0.9461\n",
            "Epoch 19/20\n",
            "52/52 [==============================] - 1s 14ms/step - loss: 0.1938 - acc: 0.9450 - val_loss: 0.1883 - val_acc: 0.9461\n",
            "Epoch 20/20\n",
            "52/52 [==============================] - 0s 9ms/step - loss: 0.1933 - acc: 0.9467 - val_loss: 0.1876 - val_acc: 0.9514\n"
          ],
          "name": "stdout"
        }
      ]
    },
    {
      "cell_type": "code",
      "metadata": {
        "id": "5MF7_nuj2ZQO",
        "colab": {
          "base_uri": "https://localhost:8080/",
          "height": 590
        },
        "outputId": "ef595ab1-40e4-4848-cae1-84eee17c6318"
      },
      "source": [
        "#Use plot_history function to plot the model curves for loss and accuracy\n",
        "plot_history(L_history)"
      ],
      "execution_count": 35,
      "outputs": [
        {
          "output_type": "stream",
          "text": [
            "dict_keys(['loss', 'acc', 'val_loss', 'val_acc'])\n"
          ],
          "name": "stdout"
        },
        {
          "output_type": "display_data",
          "data": {
            "image/png": "[encoded data removed]",
            "text/plain": [
              "<Figure size 432x288 with 1 Axes>"
            ]
          },
          "metadata": {
            "tags": [],
            "needs_background": "light"
          }
        },
        {
          "output_type": "display_data",
          "data": {
            "image/png": "[encoded data removed]",
            "text/plain": [
              "<Figure size 432x288 with 1 Axes>"
            ]
          },
          "metadata": {
            "tags": [],
            "needs_background": "light"
          }
        }
      ]
    },
    {
      "cell_type": "code",
      "metadata": {
        "id": "KAGWtCN-OKrG",
        "colab": {
          "base_uri": "https://localhost:8080/"
        },
        "outputId": "2cf3477e-a3d0-42e2-f026-2d11a7a4857e"
      },
      "source": [
        "# Use evaluate_on_test function to note accuracy, precision, recall and F1 score on test data\n",
        "laccuracy, lprecision, lrecall, lf1 = evaluate_on_test(X_test,y_test,L_model)"
      ],
      "execution_count": 36,
      "outputs": [
        {
          "output_type": "stream",
          "text": [
            "/usr/local/lib/python3.6/dist-packages/tensorflow/python/keras/engine/sequential.py:450: UserWarning: `model.predict_classes()` is deprecated and will be removed after 2021-01-01. Please use instead:* `np.argmax(model.predict(x), axis=-1)`,   if your model does multi-class classification   (e.g. if it uses a `softmax` last-layer activation).* `(model.predict(x) > 0.5).astype(\"int32\")`,   if your model does binary classification   (e.g. if it uses a `sigmoid` last-layer activation).\n",
            "  warnings.warn('`model.predict_classes()` is deprecated and '\n"
          ],
          "name": "stderr"
        },
        {
          "output_type": "stream",
          "text": [
            "Accuracy: 0.951699\n",
            "Precision: 1.000000\n",
            "Recall: 0.250423\n",
            "F1 score: 0.400541\n"
          ],
          "name": "stdout"
        }
      ]
    },
    {
      "cell_type": "code",
      "metadata": {
        "id": "zQLzyLBH98z5",
        "outputId": "84d95f92-b84f-49ca-d092-553e9e5b4813",
        "colab": {
          "base_uri": "https://localhost:8080/",
          "height": 142
        }
      },
      "source": [
        "data = [[raccuracy, rprecision, rrecall, rf1], [gaccuracy, gprecision, grecall, gf1], [laccuracy, lprecision, lrecall, lf1]]\n",
        "df = pd.DataFrame(data=data, index = ['RNN', 'GRU', 'LSTM'], columns=['Accuracy', 'Precision', 'Recall', 'F1'])\n",
        "df"
      ],
      "execution_count": 37,
      "outputs": [
        {
          "output_type": "execute_result",
          "data": {
            "text/html": [
              "<div>\n",
              "<style scoped>\n",
              "    .dataframe tbody tr th:only-of-type {\n",
              "        vertical-align: middle;\n",
              "    }\n",
              "\n",
              "    .dataframe tbody tr th {\n",
              "        vertical-align: top;\n",
              "    }\n",
              "\n",
              "    .dataframe thead th {\n",
              "        text-align: right;\n",
              "    }\n",
              "</style>\n",
              "<table border=\"1\" class=\"dataframe\">\n",
              "  <thead>\n",
              "    <tr style=\"text-align: right;\">\n",
              "      <th></th>\n",
              "      <th>Accuracy</th>\n",
              "      <th>Precision</th>\n",
              "      <th>Recall</th>\n",
              "      <th>F1</th>\n",
              "    </tr>\n",
              "  </thead>\n",
              "  <tbody>\n",
              "    <tr>\n",
              "      <th>RNN</th>\n",
              "      <td>0.951699</td>\n",
              "      <td>1.0</td>\n",
              "      <td>0.250423</td>\n",
              "      <td>0.400541</td>\n",
              "    </tr>\n",
              "    <tr>\n",
              "      <th>GRU</th>\n",
              "      <td>0.951699</td>\n",
              "      <td>1.0</td>\n",
              "      <td>0.250423</td>\n",
              "      <td>0.400541</td>\n",
              "    </tr>\n",
              "    <tr>\n",
              "      <th>LSTM</th>\n",
              "      <td>0.951699</td>\n",
              "      <td>1.0</td>\n",
              "      <td>0.250423</td>\n",
              "      <td>0.400541</td>\n",
              "    </tr>\n",
              "  </tbody>\n",
              "</table>\n",
              "</div>"
            ],
            "text/plain": [
              "      Accuracy  Precision    Recall        F1\n",
              "RNN   0.951699        1.0  0.250423  0.400541\n",
              "GRU   0.951699        1.0  0.250423  0.400541\n",
              "LSTM  0.951699        1.0  0.250423  0.400541"
            ]
          },
          "metadata": {
            "tags": []
          },
          "execution_count": 37
        }
      ]
    },
    {
      "cell_type": "markdown",
      "metadata": {
        "id": "4nf9aSqW4ctV"
      },
      "source": [
        "# Task 3: Create sequence data upto size 300. Apply 70/30 split for train-test data.\r\n",
        "# Next, fit ONLY the best data model (pick ONE between simple RNN /GRU/ LSTM reported in Task 2) on this data.\r\n"
      ]
    },
    {
      "cell_type": "code",
      "metadata": {
        "id": "oSTGbc7BP6gB"
      },
      "source": [
        "#Step 1: Create sequence upto 300\r\n",
        "short_sequence_300 = sequence[sequence['event'].map(len) <= 300]\r\n",
        "event_sequence_300 = short_sequence_300['event'].to_list()\r\n",
        "event_300 = pad_sequences(event_sequence_300)"
      ],
      "execution_count": 40,
      "outputs": []
    },
    {
      "cell_type": "code",
      "metadata": {
        "id": "O7w-kY3Ndas4",
        "colab": {
          "base_uri": "https://localhost:8080/"
        },
        "outputId": "048c19ca-ae32-4a8f-a124-33709330ff8a"
      },
      "source": [
        "# One Hot Encoding the Purchase label\r\n",
        "y_300 = np.array(pd.get_dummies(short_sequence_300['purchase'],prefix='Purchase'))\r\n",
        "\r\n",
        "X_train_300, X_test_300, y_train_300, y_test_300=prepare_train_test_data(np.array(event_300),y_300) \r\n",
        "# Function call to 'prepare_train_test_data' to create 70/30 split data\r\n",
        "print(X_train_300.shape, y_train_300.shape)"
      ],
      "execution_count": 41,
      "outputs": [
        {
          "output_type": "stream",
          "text": [
            "(83594, 1, 300) (83594, 2)\n"
          ],
          "name": "stdout"
        }
      ]
    },
    {
      "cell_type": "code",
      "metadata": {
        "id": "VgB3ISRAP6s2"
      },
      "source": [
        "# Initialize your best model (RNN or GRU or LSTM)\n",
        "model_300 = simple_RNN_model(neurons=100, op=300)"
      ],
      "execution_count": 49,
      "outputs": []
    },
    {
      "cell_type": "code",
      "metadata": {
        "id": "k8xqdlNaSC7U",
        "colab": {
          "base_uri": "https://localhost:8080/"
        },
        "outputId": "8b45f068-a05c-41c7-89d3-d29a8be0405b"
      },
      "source": [
        "#Fit your model on Training data (20 epochs, 1000 samples per batch, validation_split=0.2)\n",
        "model_300_history = model_300.fit(X_train_300, y_train_300,\n",
        "                    epochs=20,\n",
        "                    batch_size=1000,#atleast 1000 records per epoch\n",
        "                    validation_split=0.2)"
      ],
      "execution_count": 50,
      "outputs": [
        {
          "output_type": "stream",
          "text": [
            "Epoch 1/20\n",
            "67/67 [==============================] - 2s 11ms/step - loss: 0.3905 - acc: 0.9059 - val_loss: 0.2748 - val_acc: 0.9057\n",
            "Epoch 2/20\n",
            "67/67 [==============================] - 0s 6ms/step - loss: 0.2739 - acc: 0.9063 - val_loss: 0.2714 - val_acc: 0.9057\n",
            "Epoch 3/20\n",
            "67/67 [==============================] - 0s 6ms/step - loss: 0.2720 - acc: 0.9051 - val_loss: 0.2692 - val_acc: 0.9057\n",
            "Epoch 4/20\n",
            "67/67 [==============================] - 0s 6ms/step - loss: 0.2706 - acc: 0.9066 - val_loss: 0.2676 - val_acc: 0.9056\n",
            "Epoch 5/20\n",
            "67/67 [==============================] - 0s 7ms/step - loss: 0.2643 - acc: 0.9120 - val_loss: 0.2660 - val_acc: 0.9143\n",
            "Epoch 6/20\n",
            "67/67 [==============================] - 0s 6ms/step - loss: 0.2676 - acc: 0.9136 - val_loss: 0.2641 - val_acc: 0.9143\n",
            "Epoch 7/20\n",
            "67/67 [==============================] - 0s 6ms/step - loss: 0.2655 - acc: 0.9142 - val_loss: 0.2626 - val_acc: 0.9143\n",
            "Epoch 8/20\n",
            "67/67 [==============================] - 0s 6ms/step - loss: 0.2623 - acc: 0.9153 - val_loss: 0.2616 - val_acc: 0.9158\n",
            "Epoch 9/20\n",
            "67/67 [==============================] - 0s 6ms/step - loss: 0.2597 - acc: 0.9163 - val_loss: 0.2603 - val_acc: 0.9177\n",
            "Epoch 10/20\n",
            "67/67 [==============================] - 0s 7ms/step - loss: 0.2589 - acc: 0.9181 - val_loss: 0.2591 - val_acc: 0.9182\n",
            "Epoch 11/20\n",
            "67/67 [==============================] - 0s 7ms/step - loss: 0.2590 - acc: 0.9185 - val_loss: 0.2598 - val_acc: 0.9182\n",
            "Epoch 12/20\n",
            "67/67 [==============================] - 0s 6ms/step - loss: 0.2581 - acc: 0.9185 - val_loss: 0.2574 - val_acc: 0.9182\n",
            "Epoch 13/20\n",
            "67/67 [==============================] - 0s 6ms/step - loss: 0.2562 - acc: 0.9188 - val_loss: 0.2566 - val_acc: 0.9178\n",
            "Epoch 14/20\n",
            "67/67 [==============================] - 0s 6ms/step - loss: 0.2551 - acc: 0.9185 - val_loss: 0.2557 - val_acc: 0.9182\n",
            "Epoch 15/20\n",
            "67/67 [==============================] - 0s 6ms/step - loss: 0.2548 - acc: 0.9184 - val_loss: 0.2553 - val_acc: 0.9182\n",
            "Epoch 16/20\n",
            "67/67 [==============================] - 0s 6ms/step - loss: 0.2496 - acc: 0.9205 - val_loss: 0.2545 - val_acc: 0.9182\n",
            "Epoch 17/20\n",
            "67/67 [==============================] - 0s 7ms/step - loss: 0.2544 - acc: 0.9178 - val_loss: 0.2540 - val_acc: 0.9182\n",
            "Epoch 18/20\n",
            "67/67 [==============================] - 0s 7ms/step - loss: 0.2504 - acc: 0.9205 - val_loss: 0.2538 - val_acc: 0.9176\n",
            "Epoch 19/20\n",
            "67/67 [==============================] - 0s 6ms/step - loss: 0.2503 - acc: 0.9193 - val_loss: 0.2535 - val_acc: 0.9179\n",
            "Epoch 20/20\n",
            "67/67 [==============================] - 0s 6ms/step - loss: 0.2497 - acc: 0.9197 - val_loss: 0.2529 - val_acc: 0.9181\n"
          ],
          "name": "stdout"
        }
      ]
    },
    {
      "cell_type": "code",
      "metadata": {
        "id": "o29x00P0I0gq",
        "colab": {
          "base_uri": "https://localhost:8080/",
          "height": 590
        },
        "outputId": "25ec90f5-b3e1-421a-8676-2f8f77c8bd88"
      },
      "source": [
        "#Use plot_history function to plot the model curves for loss and accuracy\n",
        "plot_history(model_300_history)"
      ],
      "execution_count": 51,
      "outputs": [
        {
          "output_type": "stream",
          "text": [
            "dict_keys(['loss', 'acc', 'val_loss', 'val_acc'])\n"
          ],
          "name": "stdout"
        },
        {
          "output_type": "display_data",
          "data": {
            "image/png": "[encoded data removed]",
            "text/plain": [
              "<Figure size 432x288 with 1 Axes>"
            ]
          },
          "metadata": {
            "tags": [],
            "needs_background": "light"
          }
        },
        {
          "output_type": "display_data",
          "data": {
            "image/png": "[encoded data removed]",
            "text/plain": [
              "<Figure size 432x288 with 1 Axes>"
            ]
          },
          "metadata": {
            "tags": [],
            "needs_background": "light"
          }
        }
      ]
    },
    {
      "cell_type": "code",
      "metadata": {
        "id": "AQA-jjzrI8_6",
        "colab": {
          "base_uri": "https://localhost:8080/"
        },
        "outputId": "e9ed762e-945e-44e2-b610-ef2029ffe3da"
      },
      "source": [
        "# Use evaluate_on_test function to note accuracy, precision, recall and F1 score on test data\n",
        "m3_accuracy, m3_precision, m3_recall, m3_f1 = evaluate_on_test(X_test_300,y_test_300,model_300)"
      ],
      "execution_count": 54,
      "outputs": [
        {
          "output_type": "stream",
          "text": [
            "/usr/local/lib/python3.6/dist-packages/tensorflow/python/keras/engine/sequential.py:450: UserWarning: `model.predict_classes()` is deprecated and will be removed after 2021-01-01. Please use instead:* `np.argmax(model.predict(x), axis=-1)`,   if your model does multi-class classification   (e.g. if it uses a `softmax` last-layer activation).* `(model.predict(x) > 0.5).astype(\"int32\")`,   if your model does binary classification   (e.g. if it uses a `sigmoid` last-layer activation).\n",
            "  warnings.warn('`model.predict_classes()` is deprecated and '\n"
          ],
          "name": "stderr"
        },
        {
          "output_type": "stream",
          "text": [
            "Accuracy: 0.916848\n",
            "Precision: 0.961702\n",
            "Recall: 0.132435\n",
            "F1 score: 0.232810\n"
          ],
          "name": "stdout"
        }
      ]
    },
    {
      "cell_type": "markdown",
      "metadata": {
        "id": "2_5HNGfkP7I6"
      },
      "source": [
        "# Task 4: Finally apply feature-based classification on the session-feature level data (Session_features.pkl).\r\n",
        "\r\n",
        "Apply your best model so far on 70/30 split data for session-feature level data and report your outcome!"
      ]
    },
    {
      "cell_type": "code",
      "metadata": {
        "id": "QQHFIkXGI6zs",
        "colab": {
          "base_uri": "https://localhost:8080/"
        },
        "outputId": "942f7aaa-4622-47f5-e4cb-03cb6504bd24"
      },
      "source": [
        "#data=feat, conrains X and Y(last column)\r\n",
        "Xf=feat.iloc[:,0:34]\r\n",
        "Yf=feat.iloc[:,35]\r\n",
        "#########################START CODE HERE##########################\r\n",
        "Xf_train, Xf_test, yf_train, yf_test= prepare_train_test_data(np.array(Xf),np.array(Yf)) # Function call to 'prepare_train_test_data' to create 70/30 split data\r\n",
        "print(Xf_train.shape, yf_train.shape)"
      ],
      "execution_count": 57,
      "outputs": [
        {
          "output_type": "stream",
          "text": [
            "(1050000, 1, 34) (1050000,)\n"
          ],
          "name": "stdout"
        }
      ]
    },
    {
      "cell_type": "code",
      "metadata": {
        "id": "GuxjWsu8QPhi"
      },
      "source": [
        "#Initialize ANY model (RNN or GRU or LSTM)\n",
        "def simple_RNN_model_1(neurons=40, op=10):\n",
        "    model = Sequential()\n",
        "    model.add(SimpleRNN(neurons, return_sequences = True, input_shape = (1,op)))\n",
        "    model.add(SimpleRNN(2*neurons))\n",
        "    model.add(Dense(units=1,activation='sigmoid'))\n",
        "    model.compile(\n",
        "      optimizer=tf.optimizers.Adam(learning_rate=0.0003),\n",
        "      loss=tf.keras.losses.mean_squared_error,\n",
        "      metrics=['acc'])\n",
        "    return model\n",
        "\n"
      ],
      "execution_count": 91,
      "outputs": []
    },
    {
      "cell_type": "code",
      "metadata": {
        "id": "EPxdJiyzOiUl"
      },
      "source": [
        "model_fb = simple_RNN_model_1(neurons=80, op=34)"
      ],
      "execution_count": 96,
      "outputs": []
    },
    {
      "cell_type": "code",
      "metadata": {
        "id": "zwukFzm5yYcj",
        "colab": {
          "base_uri": "https://localhost:8080/"
        },
        "outputId": "20dcb6a4-f235-490a-f5e2-32018e8b44d3"
      },
      "source": [
        "#Fit your model on Training data (20 epochs, 1000 samples per batch, validation_split=0.2)\n",
        "model_fb_history = model_fb.fit(Xf_train, yf_train,\n",
        "                    epochs=20,\n",
        "                    batch_size=1000,#atleast 1000 records per epoch\n",
        "                    validation_split=0.2)"
      ],
      "execution_count": 97,
      "outputs": [
        {
          "output_type": "stream",
          "text": [
            "Epoch 1/20\n",
            "840/840 [==============================] - 4s 4ms/step - loss: 0.0592 - acc: 0.9235 - val_loss: 0.0450 - val_acc: 0.9358\n",
            "Epoch 2/20\n",
            "840/840 [==============================] - 3s 3ms/step - loss: 0.0444 - acc: 0.9370 - val_loss: 0.0430 - val_acc: 0.9379\n",
            "Epoch 3/20\n",
            "840/840 [==============================] - 3s 3ms/step - loss: 0.0419 - acc: 0.9394 - val_loss: 0.0401 - val_acc: 0.9413\n",
            "Epoch 4/20\n",
            "840/840 [==============================] - 3s 3ms/step - loss: 0.0394 - acc: 0.9426 - val_loss: 0.0367 - val_acc: 0.9468\n",
            "Epoch 5/20\n",
            "840/840 [==============================] - 3s 3ms/step - loss: 0.0351 - acc: 0.9498 - val_loss: 0.0382 - val_acc: 0.9460\n",
            "Epoch 6/20\n",
            "840/840 [==============================] - 3s 3ms/step - loss: 0.0340 - acc: 0.9526 - val_loss: 0.0319 - val_acc: 0.9558\n",
            "Epoch 7/20\n",
            "840/840 [==============================] - 3s 3ms/step - loss: 0.0293 - acc: 0.9605 - val_loss: 0.0264 - val_acc: 0.9650\n",
            "Epoch 8/20\n",
            "840/840 [==============================] - 3s 3ms/step - loss: 0.0251 - acc: 0.9674 - val_loss: 0.0235 - val_acc: 0.9700\n",
            "Epoch 9/20\n",
            "840/840 [==============================] - 3s 4ms/step - loss: 0.0240 - acc: 0.9695 - val_loss: 0.0217 - val_acc: 0.9723\n",
            "Epoch 10/20\n",
            "840/840 [==============================] - 3s 3ms/step - loss: 0.0235 - acc: 0.9700 - val_loss: 0.0205 - val_acc: 0.9734\n",
            "Epoch 11/20\n",
            "840/840 [==============================] - 3s 3ms/step - loss: 0.0230 - acc: 0.9705 - val_loss: 0.0284 - val_acc: 0.9642\n",
            "Epoch 12/20\n",
            "840/840 [==============================] - 3s 3ms/step - loss: 0.0220 - acc: 0.9712 - val_loss: 0.0274 - val_acc: 0.9649\n",
            "Epoch 13/20\n",
            "840/840 [==============================] - 3s 3ms/step - loss: 0.0230 - acc: 0.9702 - val_loss: 0.0207 - val_acc: 0.9727\n",
            "Epoch 14/20\n",
            "840/840 [==============================] - 3s 3ms/step - loss: 0.0199 - acc: 0.9738 - val_loss: 0.0194 - val_acc: 0.9743\n",
            "Epoch 15/20\n",
            "840/840 [==============================] - 3s 4ms/step - loss: 0.0199 - acc: 0.9736 - val_loss: 0.0197 - val_acc: 0.9741\n",
            "Epoch 16/20\n",
            "840/840 [==============================] - 3s 4ms/step - loss: 0.0233 - acc: 0.9703 - val_loss: 0.0225 - val_acc: 0.9686\n",
            "Epoch 17/20\n",
            "840/840 [==============================] - 3s 4ms/step - loss: 0.0250 - acc: 0.9686 - val_loss: 0.0235 - val_acc: 0.9697\n",
            "Epoch 18/20\n",
            "840/840 [==============================] - 3s 3ms/step - loss: 0.0205 - acc: 0.9731 - val_loss: 0.0182 - val_acc: 0.9753\n",
            "Epoch 19/20\n",
            "840/840 [==============================] - 3s 4ms/step - loss: 0.0191 - acc: 0.9748 - val_loss: 0.0220 - val_acc: 0.9717\n",
            "Epoch 20/20\n",
            "840/840 [==============================] - 3s 4ms/step - loss: 0.0217 - acc: 0.9717 - val_loss: 0.0319 - val_acc: 0.9593\n"
          ],
          "name": "stdout"
        }
      ]
    },
    {
      "cell_type": "code",
      "metadata": {
        "id": "ILXRxuM_ymWm",
        "colab": {
          "base_uri": "https://localhost:8080/",
          "height": 590
        },
        "outputId": "55b9b430-44b5-44a7-9345-107f9c01b534"
      },
      "source": [
        "#Use plot_history function to plot the model curves for loss and accuracy\n",
        "plot_history(model_fb_history)"
      ],
      "execution_count": 98,
      "outputs": [
        {
          "output_type": "stream",
          "text": [
            "dict_keys(['loss', 'acc', 'val_loss', 'val_acc'])\n"
          ],
          "name": "stdout"
        },
        {
          "output_type": "display_data",
          "data": {
            "image/png": "[encoded data removed]",
            "text/plain": [
              "<Figure size 432x288 with 1 Axes>"
            ]
          },
          "metadata": {
            "tags": [],
            "needs_background": "light"
          }
        },
        {
          "output_type": "display_data",
          "data": {
            "image/png": "[encoded data removed]",
            "text/plain": [
              "<Figure size 432x288 with 1 Axes>"
            ]
          },
          "metadata": {
            "tags": [],
            "needs_background": "light"
          }
        }
      ]
    },
    {
      "cell_type": "code",
      "metadata": {
        "id": "thFPlvgEKaiL"
      },
      "source": [
        "def evaluate_on_test_1(X_test, y_test, training_model):\n",
        "  #This function will evaluate the fit model on test data\n",
        "  g_preds=training_model.predict_classes(X_test)\n",
        "  gaccuracy = accuracy_score(y_test, g_preds)\n",
        "  print('Accuracy: %f' % gaccuracy)\n",
        "  # precision tp / (tp + fp)\n",
        "  gprecision = precision_score(y_test, g_preds)\n",
        "  print('Precision: %f' % gprecision)\n",
        "  # recall: tp / (tp + fn)\n",
        "  grecall = recall_score(y_test, g_preds)\n",
        "  print('Recall: %f' % grecall)\n",
        "  # f1: 2 tp / (2 tp + fp + fn)\n",
        "  gf1 = f1_score(y_test, g_preds)\n",
        "  print('F1 score: %f' % gf1)\n",
        "  return gaccuracy, gprecision, grecall, gf1"
      ],
      "execution_count": 80,
      "outputs": []
    },
    {
      "cell_type": "code",
      "metadata": {
        "id": "3BhRFSlcyqhT",
        "colab": {
          "base_uri": "https://localhost:8080/"
        },
        "outputId": "cdf0faf7-58d8-4a9a-cce9-9a5db537ec36"
      },
      "source": [
        "# Use evaluate_on_test function to note accuracy, precision, recall and F1 score on test data\n",
        "f_accuracy, f_precision, f_recall, f_f1 = evaluate_on_test_1(Xf_test,yf_test,model_fb)"
      ],
      "execution_count": 99,
      "outputs": [
        {
          "output_type": "stream",
          "text": [
            "/usr/local/lib/python3.6/dist-packages/tensorflow/python/keras/engine/sequential.py:450: UserWarning: `model.predict_classes()` is deprecated and will be removed after 2021-01-01. Please use instead:* `np.argmax(model.predict(x), axis=-1)`,   if your model does multi-class classification   (e.g. if it uses a `softmax` last-layer activation).* `(model.predict(x) > 0.5).astype(\"int32\")`,   if your model does binary classification   (e.g. if it uses a `sigmoid` last-layer activation).\n",
            "  warnings.warn('`model.predict_classes()` is deprecated and '\n"
          ],
          "name": "stderr"
        },
        {
          "output_type": "stream",
          "text": [
            "Accuracy: 0.959578\n",
            "Precision: 0.767607\n",
            "Recall: 0.588998\n",
            "F1 score: 0.666544\n"
          ],
          "name": "stdout"
        }
      ]
    },
    {
      "cell_type": "markdown",
      "metadata": {
        "id": "ocx8Ydrey0-W"
      },
      "source": [
        "#Comment on what you would suggest to your manager?\r\n",
        "\r\n",
        "\r\n",
        "*  Is feature-level data necessary? What metrics suggest that?\r\n",
        "*  Is sequence-level data sufficient? What sequence size would you suggest?\r\n",
        "\r\n"
      ]
    },
    {
      "cell_type": "markdown",
      "metadata": {
        "id": "xvJ84iI7NBpS"
      },
      "source": [
        "Feature-level data performs much better, with an F1 score of >0.65, as opposed to <0.25"
      ]
    }
  ]
}